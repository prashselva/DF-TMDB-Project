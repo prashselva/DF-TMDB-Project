{
 "cells": [
  {
   "cell_type": "markdown",
   "id": "ddf6ba3d-a84b-4e51-af59-02c701be9cee",
   "metadata": {},
   "source": [
    "# EDA of the TMDB dataset"
   ]
  },
  {
   "cell_type": "markdown",
   "id": "214b022e-ed11-48c2-8c88-de6024636f03",
   "metadata": {
    "tags": []
   },
   "source": [
    "## 1. Basic Data Exploration"
   ]
  },
  {
   "cell_type": "code",
   "execution_count": 1,
   "id": "95dd8cf1-6b0c-447c-b4f3-7e7be8c598a8",
   "metadata": {
    "tags": []
   },
   "outputs": [],
   "source": [
    "# import packages and load TMDB dataset\n",
    "\n",
    "import pandas as pd\n",
    "import numpy as np\n",
    "import seaborn as sns\n",
    "import missingno as msno\n",
    "import matplotlib.pyplot as plt\n",
    "import json\n",
    "import ast\n",
    "\n",
    "df = pd.read_csv(\"C://Users//prash//Documents//Digital Futures//Programmatic Data Wrangling//Solo Project//TMDB_movies.csv\")"
   ]
  },
  {
   "cell_type": "code",
   "execution_count": 2,
   "id": "63b861d2-5353-457e-b942-426459a63db6",
   "metadata": {
    "tags": []
   },
   "outputs": [
    {
     "data": {
      "text/html": [
       "<div>\n",
       "<style scoped>\n",
       "    .dataframe tbody tr th:only-of-type {\n",
       "        vertical-align: middle;\n",
       "    }\n",
       "\n",
       "    .dataframe tbody tr th {\n",
       "        vertical-align: top;\n",
       "    }\n",
       "\n",
       "    .dataframe thead th {\n",
       "        text-align: right;\n",
       "    }\n",
       "</style>\n",
       "<table border=\"1\" class=\"dataframe\">\n",
       "  <thead>\n",
       "    <tr style=\"text-align: right;\">\n",
       "      <th></th>\n",
       "      <th>budget</th>\n",
       "      <th>genres</th>\n",
       "      <th>homepage</th>\n",
       "      <th>id</th>\n",
       "      <th>keywords</th>\n",
       "      <th>original_language</th>\n",
       "      <th>original_title</th>\n",
       "      <th>overview</th>\n",
       "      <th>popularity</th>\n",
       "      <th>production_companies</th>\n",
       "      <th>production_countries</th>\n",
       "      <th>release_date</th>\n",
       "      <th>revenue</th>\n",
       "      <th>runtime</th>\n",
       "      <th>spoken_languages</th>\n",
       "      <th>status</th>\n",
       "      <th>tagline</th>\n",
       "      <th>title</th>\n",
       "      <th>vote_average</th>\n",
       "      <th>vote_count</th>\n",
       "    </tr>\n",
       "  </thead>\n",
       "  <tbody>\n",
       "    <tr>\n",
       "      <th>0</th>\n",
       "      <td>237000000</td>\n",
       "      <td>[{\"id\": 28, \"name\": \"Action\"}, {\"id\": 12, \"nam...</td>\n",
       "      <td>http://www.avatarmovie.com/</td>\n",
       "      <td>19995</td>\n",
       "      <td>[{\"id\": 1463, \"name\": \"culture clash\"}, {\"id\":...</td>\n",
       "      <td>en</td>\n",
       "      <td>Avatar</td>\n",
       "      <td>In the 22nd century, a paraplegic Marine is di...</td>\n",
       "      <td>150.437577</td>\n",
       "      <td>[{\"name\": \"Ingenious Film Partners\", \"id\": 289...</td>\n",
       "      <td>[{\"iso_3166_1\": \"US\", \"name\": \"United States o...</td>\n",
       "      <td>2009-12-10</td>\n",
       "      <td>2787965087</td>\n",
       "      <td>162.0</td>\n",
       "      <td>[{\"iso_639_1\": \"en\", \"name\": \"English\"}, {\"iso...</td>\n",
       "      <td>Released</td>\n",
       "      <td>Enter the World of Pandora.</td>\n",
       "      <td>Avatar</td>\n",
       "      <td>7.2</td>\n",
       "      <td>11800</td>\n",
       "    </tr>\n",
       "    <tr>\n",
       "      <th>1</th>\n",
       "      <td>300000000</td>\n",
       "      <td>[{\"id\": 12, \"name\": \"Adventure\"}, {\"id\": 14, \"...</td>\n",
       "      <td>http://disney.go.com/disneypictures/pirates/</td>\n",
       "      <td>285</td>\n",
       "      <td>[{\"id\": 270, \"name\": \"ocean\"}, {\"id\": 726, \"na...</td>\n",
       "      <td>en</td>\n",
       "      <td>Pirates of the Caribbean: At World's End</td>\n",
       "      <td>Captain Barbossa, long believed to be dead, ha...</td>\n",
       "      <td>139.082615</td>\n",
       "      <td>[{\"name\": \"Walt Disney Pictures\", \"id\": 2}, {\"...</td>\n",
       "      <td>[{\"iso_3166_1\": \"US\", \"name\": \"United States o...</td>\n",
       "      <td>2007-05-19</td>\n",
       "      <td>961000000</td>\n",
       "      <td>169.0</td>\n",
       "      <td>[{\"iso_639_1\": \"en\", \"name\": \"English\"}]</td>\n",
       "      <td>Released</td>\n",
       "      <td>At the end of the world, the adventure begins.</td>\n",
       "      <td>Pirates of the Caribbean: At World's End</td>\n",
       "      <td>6.9</td>\n",
       "      <td>4500</td>\n",
       "    </tr>\n",
       "    <tr>\n",
       "      <th>2</th>\n",
       "      <td>245000000</td>\n",
       "      <td>[{\"id\": 28, \"name\": \"Action\"}, {\"id\": 12, \"nam...</td>\n",
       "      <td>http://www.sonypictures.com/movies/spectre/</td>\n",
       "      <td>206647</td>\n",
       "      <td>[{\"id\": 470, \"name\": \"spy\"}, {\"id\": 818, \"name...</td>\n",
       "      <td>en</td>\n",
       "      <td>Spectre</td>\n",
       "      <td>A cryptic message from Bond’s past sends him o...</td>\n",
       "      <td>107.376788</td>\n",
       "      <td>[{\"name\": \"Columbia Pictures\", \"id\": 5}, {\"nam...</td>\n",
       "      <td>[{\"iso_3166_1\": \"GB\", \"name\": \"United Kingdom\"...</td>\n",
       "      <td>2015-10-26</td>\n",
       "      <td>880674609</td>\n",
       "      <td>148.0</td>\n",
       "      <td>[{\"iso_639_1\": \"fr\", \"name\": \"Fran\\u00e7ais\"},...</td>\n",
       "      <td>Released</td>\n",
       "      <td>A Plan No One Escapes</td>\n",
       "      <td>Spectre</td>\n",
       "      <td>6.3</td>\n",
       "      <td>4466</td>\n",
       "    </tr>\n",
       "    <tr>\n",
       "      <th>3</th>\n",
       "      <td>250000000</td>\n",
       "      <td>[{\"id\": 28, \"name\": \"Action\"}, {\"id\": 80, \"nam...</td>\n",
       "      <td>http://www.thedarkknightrises.com/</td>\n",
       "      <td>49026</td>\n",
       "      <td>[{\"id\": 849, \"name\": \"dc comics\"}, {\"id\": 853,...</td>\n",
       "      <td>en</td>\n",
       "      <td>The Dark Knight Rises</td>\n",
       "      <td>Following the death of District Attorney Harve...</td>\n",
       "      <td>112.312950</td>\n",
       "      <td>[{\"name\": \"Legendary Pictures\", \"id\": 923}, {\"...</td>\n",
       "      <td>[{\"iso_3166_1\": \"US\", \"name\": \"United States o...</td>\n",
       "      <td>2012-07-16</td>\n",
       "      <td>1084939099</td>\n",
       "      <td>165.0</td>\n",
       "      <td>[{\"iso_639_1\": \"en\", \"name\": \"English\"}]</td>\n",
       "      <td>Released</td>\n",
       "      <td>The Legend Ends</td>\n",
       "      <td>The Dark Knight Rises</td>\n",
       "      <td>7.6</td>\n",
       "      <td>9106</td>\n",
       "    </tr>\n",
       "    <tr>\n",
       "      <th>4</th>\n",
       "      <td>260000000</td>\n",
       "      <td>[{\"id\": 28, \"name\": \"Action\"}, {\"id\": 12, \"nam...</td>\n",
       "      <td>http://movies.disney.com/john-carter</td>\n",
       "      <td>49529</td>\n",
       "      <td>[{\"id\": 818, \"name\": \"based on novel\"}, {\"id\":...</td>\n",
       "      <td>en</td>\n",
       "      <td>John Carter</td>\n",
       "      <td>John Carter is a war-weary, former military ca...</td>\n",
       "      <td>43.926995</td>\n",
       "      <td>[{\"name\": \"Walt Disney Pictures\", \"id\": 2}]</td>\n",
       "      <td>[{\"iso_3166_1\": \"US\", \"name\": \"United States o...</td>\n",
       "      <td>2012-03-07</td>\n",
       "      <td>284139100</td>\n",
       "      <td>132.0</td>\n",
       "      <td>[{\"iso_639_1\": \"en\", \"name\": \"English\"}]</td>\n",
       "      <td>Released</td>\n",
       "      <td>Lost in our world, found in another.</td>\n",
       "      <td>John Carter</td>\n",
       "      <td>6.1</td>\n",
       "      <td>2124</td>\n",
       "    </tr>\n",
       "  </tbody>\n",
       "</table>\n",
       "</div>"
      ],
      "text/plain": [
       "      budget                                             genres  \\\n",
       "0  237000000  [{\"id\": 28, \"name\": \"Action\"}, {\"id\": 12, \"nam...   \n",
       "1  300000000  [{\"id\": 12, \"name\": \"Adventure\"}, {\"id\": 14, \"...   \n",
       "2  245000000  [{\"id\": 28, \"name\": \"Action\"}, {\"id\": 12, \"nam...   \n",
       "3  250000000  [{\"id\": 28, \"name\": \"Action\"}, {\"id\": 80, \"nam...   \n",
       "4  260000000  [{\"id\": 28, \"name\": \"Action\"}, {\"id\": 12, \"nam...   \n",
       "\n",
       "                                       homepage      id  \\\n",
       "0                   http://www.avatarmovie.com/   19995   \n",
       "1  http://disney.go.com/disneypictures/pirates/     285   \n",
       "2   http://www.sonypictures.com/movies/spectre/  206647   \n",
       "3            http://www.thedarkknightrises.com/   49026   \n",
       "4          http://movies.disney.com/john-carter   49529   \n",
       "\n",
       "                                            keywords original_language  \\\n",
       "0  [{\"id\": 1463, \"name\": \"culture clash\"}, {\"id\":...                en   \n",
       "1  [{\"id\": 270, \"name\": \"ocean\"}, {\"id\": 726, \"na...                en   \n",
       "2  [{\"id\": 470, \"name\": \"spy\"}, {\"id\": 818, \"name...                en   \n",
       "3  [{\"id\": 849, \"name\": \"dc comics\"}, {\"id\": 853,...                en   \n",
       "4  [{\"id\": 818, \"name\": \"based on novel\"}, {\"id\":...                en   \n",
       "\n",
       "                             original_title  \\\n",
       "0                                    Avatar   \n",
       "1  Pirates of the Caribbean: At World's End   \n",
       "2                                   Spectre   \n",
       "3                     The Dark Knight Rises   \n",
       "4                               John Carter   \n",
       "\n",
       "                                            overview  popularity  \\\n",
       "0  In the 22nd century, a paraplegic Marine is di...  150.437577   \n",
       "1  Captain Barbossa, long believed to be dead, ha...  139.082615   \n",
       "2  A cryptic message from Bond’s past sends him o...  107.376788   \n",
       "3  Following the death of District Attorney Harve...  112.312950   \n",
       "4  John Carter is a war-weary, former military ca...   43.926995   \n",
       "\n",
       "                                production_companies  \\\n",
       "0  [{\"name\": \"Ingenious Film Partners\", \"id\": 289...   \n",
       "1  [{\"name\": \"Walt Disney Pictures\", \"id\": 2}, {\"...   \n",
       "2  [{\"name\": \"Columbia Pictures\", \"id\": 5}, {\"nam...   \n",
       "3  [{\"name\": \"Legendary Pictures\", \"id\": 923}, {\"...   \n",
       "4        [{\"name\": \"Walt Disney Pictures\", \"id\": 2}]   \n",
       "\n",
       "                                production_countries release_date     revenue  \\\n",
       "0  [{\"iso_3166_1\": \"US\", \"name\": \"United States o...   2009-12-10  2787965087   \n",
       "1  [{\"iso_3166_1\": \"US\", \"name\": \"United States o...   2007-05-19   961000000   \n",
       "2  [{\"iso_3166_1\": \"GB\", \"name\": \"United Kingdom\"...   2015-10-26   880674609   \n",
       "3  [{\"iso_3166_1\": \"US\", \"name\": \"United States o...   2012-07-16  1084939099   \n",
       "4  [{\"iso_3166_1\": \"US\", \"name\": \"United States o...   2012-03-07   284139100   \n",
       "\n",
       "   runtime                                   spoken_languages    status  \\\n",
       "0    162.0  [{\"iso_639_1\": \"en\", \"name\": \"English\"}, {\"iso...  Released   \n",
       "1    169.0           [{\"iso_639_1\": \"en\", \"name\": \"English\"}]  Released   \n",
       "2    148.0  [{\"iso_639_1\": \"fr\", \"name\": \"Fran\\u00e7ais\"},...  Released   \n",
       "3    165.0           [{\"iso_639_1\": \"en\", \"name\": \"English\"}]  Released   \n",
       "4    132.0           [{\"iso_639_1\": \"en\", \"name\": \"English\"}]  Released   \n",
       "\n",
       "                                          tagline  \\\n",
       "0                     Enter the World of Pandora.   \n",
       "1  At the end of the world, the adventure begins.   \n",
       "2                           A Plan No One Escapes   \n",
       "3                                 The Legend Ends   \n",
       "4            Lost in our world, found in another.   \n",
       "\n",
       "                                      title  vote_average  vote_count  \n",
       "0                                    Avatar           7.2       11800  \n",
       "1  Pirates of the Caribbean: At World's End           6.9        4500  \n",
       "2                                   Spectre           6.3        4466  \n",
       "3                     The Dark Knight Rises           7.6        9106  \n",
       "4                               John Carter           6.1        2124  "
      ]
     },
     "execution_count": 2,
     "metadata": {},
     "output_type": "execute_result"
    }
   ],
   "source": [
    "## Visualing the head of the dataset\n",
    "df.head()"
   ]
  },
  {
   "cell_type": "markdown",
   "id": "d79bdece-3e92-4e07-9768-47eca4b478ab",
   "metadata": {},
   "source": [
    "### Note:\n",
    "Columns: 'genres', 'keywords', 'production_companies', 'production_countries', and 'spoken_languages' are single arrays containing JSON. This will either have to be flattened and separated into several separate columns or will have to be processed as a JSON using the relevant libraries.\n",
    "Unsure as to what the popularity columns is but most likely a percentage."
   ]
  },
  {
   "cell_type": "code",
   "execution_count": 3,
   "id": "81ee49bf-0300-47d2-983c-a304575cb356",
   "metadata": {
    "tags": []
   },
   "outputs": [
    {
     "data": {
      "text/plain": [
       "(4803, 20)"
      ]
     },
     "execution_count": 3,
     "metadata": {},
     "output_type": "execute_result"
    }
   ],
   "source": [
    "## Checking the dimensions of the dataset\n",
    "df.shape"
   ]
  },
  {
   "cell_type": "markdown",
   "id": "cb6aa355-6275-4d99-b2ba-02ac67e96615",
   "metadata": {},
   "source": [
    "### Note:\n",
    "\n",
    "The dataset consists of 4903 observations, with 20 columns."
   ]
  },
  {
   "cell_type": "code",
   "execution_count": 4,
   "id": "8f6293c9-4857-4b8e-afb2-f95e7140cece",
   "metadata": {
    "tags": []
   },
   "outputs": [
    {
     "name": "stdout",
     "output_type": "stream",
     "text": [
      "<class 'pandas.core.frame.DataFrame'>\n",
      "RangeIndex: 4803 entries, 0 to 4802\n",
      "Data columns (total 20 columns):\n",
      " #   Column                Non-Null Count  Dtype  \n",
      "---  ------                --------------  -----  \n",
      " 0   budget                4803 non-null   int64  \n",
      " 1   genres                4803 non-null   object \n",
      " 2   homepage              1712 non-null   object \n",
      " 3   id                    4803 non-null   int64  \n",
      " 4   keywords              4803 non-null   object \n",
      " 5   original_language     4803 non-null   object \n",
      " 6   original_title        4803 non-null   object \n",
      " 7   overview              4800 non-null   object \n",
      " 8   popularity            4803 non-null   float64\n",
      " 9   production_companies  4803 non-null   object \n",
      " 10  production_countries  4803 non-null   object \n",
      " 11  release_date          4802 non-null   object \n",
      " 12  revenue               4803 non-null   int64  \n",
      " 13  runtime               4801 non-null   float64\n",
      " 14  spoken_languages      4803 non-null   object \n",
      " 15  status                4803 non-null   object \n",
      " 16  tagline               3959 non-null   object \n",
      " 17  title                 4803 non-null   object \n",
      " 18  vote_average          4803 non-null   float64\n",
      " 19  vote_count            4803 non-null   int64  \n",
      "dtypes: float64(3), int64(4), object(13)\n",
      "memory usage: 750.6+ KB\n"
     ]
    }
   ],
   "source": [
    "## Checking the Dtypes of the columns\n",
    "df.info()"
   ]
  },
  {
   "cell_type": "markdown",
   "id": "b73fe939-18db-41e2-b61c-df94db00db1c",
   "metadata": {},
   "source": [
    "### Note:\n",
    "\n",
    "Release date is an object rather than a datetime Dtype. This could be changed later on."
   ]
  },
  {
   "cell_type": "code",
   "execution_count": 5,
   "id": "949126f8-acb6-4ad0-a4b4-f69d4eda785e",
   "metadata": {
    "tags": []
   },
   "outputs": [
    {
     "data": {
      "text/html": [
       "<div>\n",
       "<style scoped>\n",
       "    .dataframe tbody tr th:only-of-type {\n",
       "        vertical-align: middle;\n",
       "    }\n",
       "\n",
       "    .dataframe tbody tr th {\n",
       "        vertical-align: top;\n",
       "    }\n",
       "\n",
       "    .dataframe thead th {\n",
       "        text-align: right;\n",
       "    }\n",
       "</style>\n",
       "<table border=\"1\" class=\"dataframe\">\n",
       "  <thead>\n",
       "    <tr style=\"text-align: right;\">\n",
       "      <th></th>\n",
       "      <th>budget</th>\n",
       "      <th>genres</th>\n",
       "      <th>homepage</th>\n",
       "      <th>id</th>\n",
       "      <th>keywords</th>\n",
       "      <th>original_language</th>\n",
       "      <th>original_title</th>\n",
       "      <th>overview</th>\n",
       "      <th>popularity</th>\n",
       "      <th>production_companies</th>\n",
       "      <th>production_countries</th>\n",
       "      <th>release_date</th>\n",
       "      <th>revenue</th>\n",
       "      <th>runtime</th>\n",
       "      <th>spoken_languages</th>\n",
       "      <th>status</th>\n",
       "      <th>tagline</th>\n",
       "      <th>title</th>\n",
       "      <th>vote_average</th>\n",
       "      <th>vote_count</th>\n",
       "    </tr>\n",
       "  </thead>\n",
       "  <tbody>\n",
       "    <tr>\n",
       "      <th>count</th>\n",
       "      <td>4.803000e+03</td>\n",
       "      <td>4803</td>\n",
       "      <td>1712</td>\n",
       "      <td>4803.000000</td>\n",
       "      <td>4803</td>\n",
       "      <td>4803</td>\n",
       "      <td>4803</td>\n",
       "      <td>4800</td>\n",
       "      <td>4803.000000</td>\n",
       "      <td>4803</td>\n",
       "      <td>4803</td>\n",
       "      <td>4802</td>\n",
       "      <td>4.803000e+03</td>\n",
       "      <td>4801.000000</td>\n",
       "      <td>4803</td>\n",
       "      <td>4803</td>\n",
       "      <td>3959</td>\n",
       "      <td>4803</td>\n",
       "      <td>4803.000000</td>\n",
       "      <td>4803.000000</td>\n",
       "    </tr>\n",
       "    <tr>\n",
       "      <th>unique</th>\n",
       "      <td>NaN</td>\n",
       "      <td>1175</td>\n",
       "      <td>1691</td>\n",
       "      <td>NaN</td>\n",
       "      <td>4222</td>\n",
       "      <td>37</td>\n",
       "      <td>4801</td>\n",
       "      <td>4800</td>\n",
       "      <td>NaN</td>\n",
       "      <td>3697</td>\n",
       "      <td>469</td>\n",
       "      <td>3280</td>\n",
       "      <td>NaN</td>\n",
       "      <td>NaN</td>\n",
       "      <td>544</td>\n",
       "      <td>3</td>\n",
       "      <td>3944</td>\n",
       "      <td>4800</td>\n",
       "      <td>NaN</td>\n",
       "      <td>NaN</td>\n",
       "    </tr>\n",
       "    <tr>\n",
       "      <th>top</th>\n",
       "      <td>NaN</td>\n",
       "      <td>[{\"id\": 18, \"name\": \"Drama\"}]</td>\n",
       "      <td>http://www.missionimpossible.com/</td>\n",
       "      <td>NaN</td>\n",
       "      <td>[]</td>\n",
       "      <td>en</td>\n",
       "      <td>Out of the Blue</td>\n",
       "      <td>In the 22nd century, a paraplegic Marine is di...</td>\n",
       "      <td>NaN</td>\n",
       "      <td>[]</td>\n",
       "      <td>[{\"iso_3166_1\": \"US\", \"name\": \"United States o...</td>\n",
       "      <td>2006-01-01</td>\n",
       "      <td>NaN</td>\n",
       "      <td>NaN</td>\n",
       "      <td>[{\"iso_639_1\": \"en\", \"name\": \"English\"}]</td>\n",
       "      <td>Released</td>\n",
       "      <td>Based on a true story.</td>\n",
       "      <td>The Host</td>\n",
       "      <td>NaN</td>\n",
       "      <td>NaN</td>\n",
       "    </tr>\n",
       "    <tr>\n",
       "      <th>freq</th>\n",
       "      <td>NaN</td>\n",
       "      <td>370</td>\n",
       "      <td>4</td>\n",
       "      <td>NaN</td>\n",
       "      <td>412</td>\n",
       "      <td>4505</td>\n",
       "      <td>2</td>\n",
       "      <td>1</td>\n",
       "      <td>NaN</td>\n",
       "      <td>351</td>\n",
       "      <td>2977</td>\n",
       "      <td>10</td>\n",
       "      <td>NaN</td>\n",
       "      <td>NaN</td>\n",
       "      <td>3171</td>\n",
       "      <td>4795</td>\n",
       "      <td>3</td>\n",
       "      <td>2</td>\n",
       "      <td>NaN</td>\n",
       "      <td>NaN</td>\n",
       "    </tr>\n",
       "    <tr>\n",
       "      <th>mean</th>\n",
       "      <td>2.904504e+07</td>\n",
       "      <td>NaN</td>\n",
       "      <td>NaN</td>\n",
       "      <td>57165.484281</td>\n",
       "      <td>NaN</td>\n",
       "      <td>NaN</td>\n",
       "      <td>NaN</td>\n",
       "      <td>NaN</td>\n",
       "      <td>21.492301</td>\n",
       "      <td>NaN</td>\n",
       "      <td>NaN</td>\n",
       "      <td>NaN</td>\n",
       "      <td>8.226064e+07</td>\n",
       "      <td>106.875859</td>\n",
       "      <td>NaN</td>\n",
       "      <td>NaN</td>\n",
       "      <td>NaN</td>\n",
       "      <td>NaN</td>\n",
       "      <td>6.092172</td>\n",
       "      <td>690.217989</td>\n",
       "    </tr>\n",
       "    <tr>\n",
       "      <th>std</th>\n",
       "      <td>4.072239e+07</td>\n",
       "      <td>NaN</td>\n",
       "      <td>NaN</td>\n",
       "      <td>88694.614033</td>\n",
       "      <td>NaN</td>\n",
       "      <td>NaN</td>\n",
       "      <td>NaN</td>\n",
       "      <td>NaN</td>\n",
       "      <td>31.816650</td>\n",
       "      <td>NaN</td>\n",
       "      <td>NaN</td>\n",
       "      <td>NaN</td>\n",
       "      <td>1.628571e+08</td>\n",
       "      <td>22.611935</td>\n",
       "      <td>NaN</td>\n",
       "      <td>NaN</td>\n",
       "      <td>NaN</td>\n",
       "      <td>NaN</td>\n",
       "      <td>1.194612</td>\n",
       "      <td>1234.585891</td>\n",
       "    </tr>\n",
       "    <tr>\n",
       "      <th>min</th>\n",
       "      <td>0.000000e+00</td>\n",
       "      <td>NaN</td>\n",
       "      <td>NaN</td>\n",
       "      <td>5.000000</td>\n",
       "      <td>NaN</td>\n",
       "      <td>NaN</td>\n",
       "      <td>NaN</td>\n",
       "      <td>NaN</td>\n",
       "      <td>0.000000</td>\n",
       "      <td>NaN</td>\n",
       "      <td>NaN</td>\n",
       "      <td>NaN</td>\n",
       "      <td>0.000000e+00</td>\n",
       "      <td>0.000000</td>\n",
       "      <td>NaN</td>\n",
       "      <td>NaN</td>\n",
       "      <td>NaN</td>\n",
       "      <td>NaN</td>\n",
       "      <td>0.000000</td>\n",
       "      <td>0.000000</td>\n",
       "    </tr>\n",
       "    <tr>\n",
       "      <th>25%</th>\n",
       "      <td>7.900000e+05</td>\n",
       "      <td>NaN</td>\n",
       "      <td>NaN</td>\n",
       "      <td>9014.500000</td>\n",
       "      <td>NaN</td>\n",
       "      <td>NaN</td>\n",
       "      <td>NaN</td>\n",
       "      <td>NaN</td>\n",
       "      <td>4.668070</td>\n",
       "      <td>NaN</td>\n",
       "      <td>NaN</td>\n",
       "      <td>NaN</td>\n",
       "      <td>0.000000e+00</td>\n",
       "      <td>94.000000</td>\n",
       "      <td>NaN</td>\n",
       "      <td>NaN</td>\n",
       "      <td>NaN</td>\n",
       "      <td>NaN</td>\n",
       "      <td>5.600000</td>\n",
       "      <td>54.000000</td>\n",
       "    </tr>\n",
       "    <tr>\n",
       "      <th>50%</th>\n",
       "      <td>1.500000e+07</td>\n",
       "      <td>NaN</td>\n",
       "      <td>NaN</td>\n",
       "      <td>14629.000000</td>\n",
       "      <td>NaN</td>\n",
       "      <td>NaN</td>\n",
       "      <td>NaN</td>\n",
       "      <td>NaN</td>\n",
       "      <td>12.921594</td>\n",
       "      <td>NaN</td>\n",
       "      <td>NaN</td>\n",
       "      <td>NaN</td>\n",
       "      <td>1.917000e+07</td>\n",
       "      <td>103.000000</td>\n",
       "      <td>NaN</td>\n",
       "      <td>NaN</td>\n",
       "      <td>NaN</td>\n",
       "      <td>NaN</td>\n",
       "      <td>6.200000</td>\n",
       "      <td>235.000000</td>\n",
       "    </tr>\n",
       "    <tr>\n",
       "      <th>75%</th>\n",
       "      <td>4.000000e+07</td>\n",
       "      <td>NaN</td>\n",
       "      <td>NaN</td>\n",
       "      <td>58610.500000</td>\n",
       "      <td>NaN</td>\n",
       "      <td>NaN</td>\n",
       "      <td>NaN</td>\n",
       "      <td>NaN</td>\n",
       "      <td>28.313505</td>\n",
       "      <td>NaN</td>\n",
       "      <td>NaN</td>\n",
       "      <td>NaN</td>\n",
       "      <td>9.291719e+07</td>\n",
       "      <td>118.000000</td>\n",
       "      <td>NaN</td>\n",
       "      <td>NaN</td>\n",
       "      <td>NaN</td>\n",
       "      <td>NaN</td>\n",
       "      <td>6.800000</td>\n",
       "      <td>737.000000</td>\n",
       "    </tr>\n",
       "    <tr>\n",
       "      <th>max</th>\n",
       "      <td>3.800000e+08</td>\n",
       "      <td>NaN</td>\n",
       "      <td>NaN</td>\n",
       "      <td>459488.000000</td>\n",
       "      <td>NaN</td>\n",
       "      <td>NaN</td>\n",
       "      <td>NaN</td>\n",
       "      <td>NaN</td>\n",
       "      <td>875.581305</td>\n",
       "      <td>NaN</td>\n",
       "      <td>NaN</td>\n",
       "      <td>NaN</td>\n",
       "      <td>2.787965e+09</td>\n",
       "      <td>338.000000</td>\n",
       "      <td>NaN</td>\n",
       "      <td>NaN</td>\n",
       "      <td>NaN</td>\n",
       "      <td>NaN</td>\n",
       "      <td>10.000000</td>\n",
       "      <td>13752.000000</td>\n",
       "    </tr>\n",
       "  </tbody>\n",
       "</table>\n",
       "</div>"
      ],
      "text/plain": [
       "              budget                         genres  \\\n",
       "count   4.803000e+03                           4803   \n",
       "unique           NaN                           1175   \n",
       "top              NaN  [{\"id\": 18, \"name\": \"Drama\"}]   \n",
       "freq             NaN                            370   \n",
       "mean    2.904504e+07                            NaN   \n",
       "std     4.072239e+07                            NaN   \n",
       "min     0.000000e+00                            NaN   \n",
       "25%     7.900000e+05                            NaN   \n",
       "50%     1.500000e+07                            NaN   \n",
       "75%     4.000000e+07                            NaN   \n",
       "max     3.800000e+08                            NaN   \n",
       "\n",
       "                                 homepage             id keywords  \\\n",
       "count                                1712    4803.000000     4803   \n",
       "unique                               1691            NaN     4222   \n",
       "top     http://www.missionimpossible.com/            NaN       []   \n",
       "freq                                    4            NaN      412   \n",
       "mean                                  NaN   57165.484281      NaN   \n",
       "std                                   NaN   88694.614033      NaN   \n",
       "min                                   NaN       5.000000      NaN   \n",
       "25%                                   NaN    9014.500000      NaN   \n",
       "50%                                   NaN   14629.000000      NaN   \n",
       "75%                                   NaN   58610.500000      NaN   \n",
       "max                                   NaN  459488.000000      NaN   \n",
       "\n",
       "       original_language   original_title  \\\n",
       "count               4803             4803   \n",
       "unique                37             4801   \n",
       "top                   en  Out of the Blue   \n",
       "freq                4505                2   \n",
       "mean                 NaN              NaN   \n",
       "std                  NaN              NaN   \n",
       "min                  NaN              NaN   \n",
       "25%                  NaN              NaN   \n",
       "50%                  NaN              NaN   \n",
       "75%                  NaN              NaN   \n",
       "max                  NaN              NaN   \n",
       "\n",
       "                                                 overview   popularity  \\\n",
       "count                                                4800  4803.000000   \n",
       "unique                                               4800          NaN   \n",
       "top     In the 22nd century, a paraplegic Marine is di...          NaN   \n",
       "freq                                                    1          NaN   \n",
       "mean                                                  NaN    21.492301   \n",
       "std                                                   NaN    31.816650   \n",
       "min                                                   NaN     0.000000   \n",
       "25%                                                   NaN     4.668070   \n",
       "50%                                                   NaN    12.921594   \n",
       "75%                                                   NaN    28.313505   \n",
       "max                                                   NaN   875.581305   \n",
       "\n",
       "       production_companies  \\\n",
       "count                  4803   \n",
       "unique                 3697   \n",
       "top                      []   \n",
       "freq                    351   \n",
       "mean                    NaN   \n",
       "std                     NaN   \n",
       "min                     NaN   \n",
       "25%                     NaN   \n",
       "50%                     NaN   \n",
       "75%                     NaN   \n",
       "max                     NaN   \n",
       "\n",
       "                                     production_countries release_date  \\\n",
       "count                                                4803         4802   \n",
       "unique                                                469         3280   \n",
       "top     [{\"iso_3166_1\": \"US\", \"name\": \"United States o...   2006-01-01   \n",
       "freq                                                 2977           10   \n",
       "mean                                                  NaN          NaN   \n",
       "std                                                   NaN          NaN   \n",
       "min                                                   NaN          NaN   \n",
       "25%                                                   NaN          NaN   \n",
       "50%                                                   NaN          NaN   \n",
       "75%                                                   NaN          NaN   \n",
       "max                                                   NaN          NaN   \n",
       "\n",
       "             revenue      runtime                          spoken_languages  \\\n",
       "count   4.803000e+03  4801.000000                                      4803   \n",
       "unique           NaN          NaN                                       544   \n",
       "top              NaN          NaN  [{\"iso_639_1\": \"en\", \"name\": \"English\"}]   \n",
       "freq             NaN          NaN                                      3171   \n",
       "mean    8.226064e+07   106.875859                                       NaN   \n",
       "std     1.628571e+08    22.611935                                       NaN   \n",
       "min     0.000000e+00     0.000000                                       NaN   \n",
       "25%     0.000000e+00    94.000000                                       NaN   \n",
       "50%     1.917000e+07   103.000000                                       NaN   \n",
       "75%     9.291719e+07   118.000000                                       NaN   \n",
       "max     2.787965e+09   338.000000                                       NaN   \n",
       "\n",
       "          status                 tagline     title  vote_average    vote_count  \n",
       "count       4803                    3959      4803   4803.000000   4803.000000  \n",
       "unique         3                    3944      4800           NaN           NaN  \n",
       "top     Released  Based on a true story.  The Host           NaN           NaN  \n",
       "freq        4795                       3         2           NaN           NaN  \n",
       "mean         NaN                     NaN       NaN      6.092172    690.217989  \n",
       "std          NaN                     NaN       NaN      1.194612   1234.585891  \n",
       "min          NaN                     NaN       NaN      0.000000      0.000000  \n",
       "25%          NaN                     NaN       NaN      5.600000     54.000000  \n",
       "50%          NaN                     NaN       NaN      6.200000    235.000000  \n",
       "75%          NaN                     NaN       NaN      6.800000    737.000000  \n",
       "max          NaN                     NaN       NaN     10.000000  13752.000000  "
      ]
     },
     "execution_count": 5,
     "metadata": {},
     "output_type": "execute_result"
    }
   ],
   "source": [
    "## Checking for anomalies or unusual columns in the data\n",
    "df.describe(include = 'all')"
   ]
  },
  {
   "cell_type": "markdown",
   "id": "cd91cbcd-45f0-4d09-8565-a9dea3a9cd63",
   "metadata": {},
   "source": [
    "### Note:\n",
    "\n",
    "Several columns have a min value of 0 ('budget', 'popularity','revenue', 'runtime'). These are likely to be placeholder values. The columns 'vote_average' and 'vote_count' have min values of 0 but, this could be correct, Further exploration needed.\n"
   ]
  },
  {
   "cell_type": "markdown",
   "id": "0263d4e9-4bcc-4e8e-a127-033475a05d5b",
   "metadata": {},
   "source": [
    "## 1.1 Finding Nulls"
   ]
  },
  {
   "cell_type": "code",
   "execution_count": 6,
   "id": "68a77e0e-3e17-4627-95c3-ee89b5387a44",
   "metadata": {
    "tags": []
   },
   "outputs": [
    {
     "data": {
      "text/plain": [
       "<Axes: >"
      ]
     },
     "execution_count": 6,
     "metadata": {},
     "output_type": "execute_result"
    },
    {
     "data": {
      "image/png": "[encoded data removed]",
      "text/plain": [
       "<Figure size 2500x1000 with 2 Axes>"
      ]
     },
     "metadata": {},
     "output_type": "display_data"
    }
   ],
   "source": [
    "msno.matrix(df)"
   ]
  },
  {
   "cell_type": "markdown",
   "id": "c31a73c2-24b1-4963-a975-0fbb5cc94f8a",
   "metadata": {},
   "source": [
    "## Note:\n",
    "\n",
    "homepage and tagline have many null values."
   ]
  },
  {
   "cell_type": "code",
   "execution_count": 7,
   "id": "8eca4bb9-1d17-4679-ba00-4c6c0c0ded1e",
   "metadata": {
    "tags": []
   },
   "outputs": [
    {
     "data": {
      "text/plain": [
       "budget                     0\n",
       "genres                     0\n",
       "homepage                3091\n",
       "id                         0\n",
       "keywords                   0\n",
       "original_language          0\n",
       "original_title             0\n",
       "overview                   3\n",
       "popularity                 0\n",
       "production_companies       0\n",
       "production_countries       0\n",
       "release_date               1\n",
       "revenue                    0\n",
       "runtime                    2\n",
       "spoken_languages           0\n",
       "status                     0\n",
       "tagline                  844\n",
       "title                      0\n",
       "vote_average               0\n",
       "vote_count                 0\n",
       "dtype: int64"
      ]
     },
     "execution_count": 7,
     "metadata": {},
     "output_type": "execute_result"
    }
   ],
   "source": [
    "# counting nulls\n",
    "\n",
    "null_df = df.isnull()\n",
    "sum_of_nulls = null_df.sum()\n",
    "sum_of_nulls"
   ]
  },
  {
   "cell_type": "code",
   "execution_count": 8,
   "id": "e70a94d7-5030-45ef-a9e7-bccb5f89ca1a",
   "metadata": {
    "tags": []
   },
   "outputs": [
    {
     "data": {
      "text/html": [
       "<div>\n",
       "<style scoped>\n",
       "    .dataframe tbody tr th:only-of-type {\n",
       "        vertical-align: middle;\n",
       "    }\n",
       "\n",
       "    .dataframe tbody tr th {\n",
       "        vertical-align: top;\n",
       "    }\n",
       "\n",
       "    .dataframe thead th {\n",
       "        text-align: right;\n",
       "    }\n",
       "</style>\n",
       "<table border=\"1\" class=\"dataframe\">\n",
       "  <thead>\n",
       "    <tr style=\"text-align: right;\">\n",
       "      <th></th>\n",
       "      <th>null</th>\n",
       "      <th>percent</th>\n",
       "    </tr>\n",
       "  </thead>\n",
       "  <tbody>\n",
       "    <tr>\n",
       "      <th>budget</th>\n",
       "      <td>0</td>\n",
       "      <td>0.00</td>\n",
       "    </tr>\n",
       "    <tr>\n",
       "      <th>genres</th>\n",
       "      <td>0</td>\n",
       "      <td>0.00</td>\n",
       "    </tr>\n",
       "    <tr>\n",
       "      <th>homepage</th>\n",
       "      <td>3091</td>\n",
       "      <td>64.36</td>\n",
       "    </tr>\n",
       "    <tr>\n",
       "      <th>id</th>\n",
       "      <td>0</td>\n",
       "      <td>0.00</td>\n",
       "    </tr>\n",
       "    <tr>\n",
       "      <th>keywords</th>\n",
       "      <td>0</td>\n",
       "      <td>0.00</td>\n",
       "    </tr>\n",
       "    <tr>\n",
       "      <th>original_language</th>\n",
       "      <td>0</td>\n",
       "      <td>0.00</td>\n",
       "    </tr>\n",
       "    <tr>\n",
       "      <th>original_title</th>\n",
       "      <td>0</td>\n",
       "      <td>0.00</td>\n",
       "    </tr>\n",
       "    <tr>\n",
       "      <th>overview</th>\n",
       "      <td>3</td>\n",
       "      <td>0.06</td>\n",
       "    </tr>\n",
       "    <tr>\n",
       "      <th>popularity</th>\n",
       "      <td>0</td>\n",
       "      <td>0.00</td>\n",
       "    </tr>\n",
       "    <tr>\n",
       "      <th>production_companies</th>\n",
       "      <td>0</td>\n",
       "      <td>0.00</td>\n",
       "    </tr>\n",
       "    <tr>\n",
       "      <th>production_countries</th>\n",
       "      <td>0</td>\n",
       "      <td>0.00</td>\n",
       "    </tr>\n",
       "    <tr>\n",
       "      <th>release_date</th>\n",
       "      <td>1</td>\n",
       "      <td>0.02</td>\n",
       "    </tr>\n",
       "    <tr>\n",
       "      <th>revenue</th>\n",
       "      <td>0</td>\n",
       "      <td>0.00</td>\n",
       "    </tr>\n",
       "    <tr>\n",
       "      <th>runtime</th>\n",
       "      <td>2</td>\n",
       "      <td>0.04</td>\n",
       "    </tr>\n",
       "    <tr>\n",
       "      <th>spoken_languages</th>\n",
       "      <td>0</td>\n",
       "      <td>0.00</td>\n",
       "    </tr>\n",
       "    <tr>\n",
       "      <th>status</th>\n",
       "      <td>0</td>\n",
       "      <td>0.00</td>\n",
       "    </tr>\n",
       "    <tr>\n",
       "      <th>tagline</th>\n",
       "      <td>844</td>\n",
       "      <td>17.57</td>\n",
       "    </tr>\n",
       "    <tr>\n",
       "      <th>title</th>\n",
       "      <td>0</td>\n",
       "      <td>0.00</td>\n",
       "    </tr>\n",
       "    <tr>\n",
       "      <th>vote_average</th>\n",
       "      <td>0</td>\n",
       "      <td>0.00</td>\n",
       "    </tr>\n",
       "    <tr>\n",
       "      <th>vote_count</th>\n",
       "      <td>0</td>\n",
       "      <td>0.00</td>\n",
       "    </tr>\n",
       "  </tbody>\n",
       "</table>\n",
       "</div>"
      ],
      "text/plain": [
       "                      null  percent\n",
       "budget                   0     0.00\n",
       "genres                   0     0.00\n",
       "homepage              3091    64.36\n",
       "id                       0     0.00\n",
       "keywords                 0     0.00\n",
       "original_language        0     0.00\n",
       "original_title           0     0.00\n",
       "overview                 3     0.06\n",
       "popularity               0     0.00\n",
       "production_companies     0     0.00\n",
       "production_countries     0     0.00\n",
       "release_date             1     0.02\n",
       "revenue                  0     0.00\n",
       "runtime                  2     0.04\n",
       "spoken_languages         0     0.00\n",
       "status                   0     0.00\n",
       "tagline                844    17.57\n",
       "title                    0     0.00\n",
       "vote_average             0     0.00\n",
       "vote_count               0     0.00"
      ]
     },
     "execution_count": 8,
     "metadata": {},
     "output_type": "execute_result"
    }
   ],
   "source": [
    "## Finding percentage of values that are null for each column. Code adapted from DF workbook.\n",
    "\n",
    "null_vals_df = pd.DataFrame(sum_of_nulls, columns = ['null'])\n",
    "null_vals_df['percent'] = round((null_vals_df['null']/4803)*100,2)\n",
    "null_vals_df"
   ]
  },
  {
   "cell_type": "markdown",
   "id": "24e3d9a3-747b-45c7-98f2-b227018484a5",
   "metadata": {},
   "source": [
    "### Note:\n",
    "- homepage is 64.36% null.\n",
    "- tagline is 17.57% null.\n",
    "- overview is 0.06% null. \n",
    "- release_date is 0.02% null.\n",
    "- runtime is 0.04% null.\n",
    "\n",
    "Observations with null values for 'overview', 'release_date', and 'runtime' can likely be dropped with little affect on general trends. 'homepage' and 'tagline' nulls will have to filled with a value such as 'Not-Available' as they make up a large percentage of values, aren't numeric and therfore can't be custom filled easily."
   ]
  },
  {
   "cell_type": "code",
   "execution_count": 9,
   "id": "23e0ade3-800d-44ca-871c-1cd2e0abbd44",
   "metadata": {
    "tags": []
   },
   "outputs": [],
   "source": [
    "## Dropping overview, release_date and runtime.\n",
    "df = df.dropna(subset=['overview','release_date','runtime'], axis = 0)"
   ]
  },
  {
   "cell_type": "code",
   "execution_count": 10,
   "id": "151a9158-4bc0-4ddf-a27b-e36927e664a5",
   "metadata": {
    "tags": []
   },
   "outputs": [],
   "source": [
    "## Filling null values with 'N/A'\n",
    "df['homepage'] = df['homepage'].fillna('N/A')"
   ]
  },
  {
   "cell_type": "code",
   "execution_count": 11,
   "id": "209ac6f4-ec7e-4d3b-a8b8-76ab24a32605",
   "metadata": {
    "tags": []
   },
   "outputs": [],
   "source": [
    "## Filling null values with 'N/A'\n",
    "df['tagline'] = df['tagline'].fillna('N/A')"
   ]
  },
  {
   "cell_type": "code",
   "execution_count": 12,
   "id": "f0474051-b81e-4e06-b60e-59453dde241e",
   "metadata": {
    "tags": []
   },
   "outputs": [
    {
     "data": {
      "text/plain": [
       "budget                  0\n",
       "genres                  0\n",
       "homepage                0\n",
       "id                      0\n",
       "keywords                0\n",
       "original_language       0\n",
       "original_title          0\n",
       "overview                0\n",
       "popularity              0\n",
       "production_companies    0\n",
       "production_countries    0\n",
       "release_date            0\n",
       "revenue                 0\n",
       "runtime                 0\n",
       "spoken_languages        0\n",
       "status                  0\n",
       "tagline                 0\n",
       "title                   0\n",
       "vote_average            0\n",
       "vote_count              0\n",
       "dtype: int64"
      ]
     },
     "execution_count": 12,
     "metadata": {},
     "output_type": "execute_result"
    }
   ],
   "source": [
    "null_df = df.isnull()\n",
    "sum_of_nulls = null_df.sum()\n",
    "sum_of_nulls"
   ]
  },
  {
   "cell_type": "markdown",
   "id": "c2b9bc63-ca10-4528-a4d8-2e0bc85f44f8",
   "metadata": {
    "tags": []
   },
   "source": [
    "## Exploring Numeric Data Values"
   ]
  },
  {
   "cell_type": "code",
   "execution_count": 68,
   "id": "88268fd9-8079-41b2-ab1d-f54452e34dcd",
   "metadata": {
    "tags": []
   },
   "outputs": [
    {
     "data": {
      "image/png": "[encoded data removed]",
      "text/plain": [
       "<Figure size 640x480 with 2 Axes>"
      ]
     },
     "metadata": {},
     "output_type": "display_data"
    }
   ],
   "source": [
    "numeric_column_corr = df[['budget', 'popularity', 'revenue', 'runtime', 'vote_average', 'vote_count']].corr()\n",
    "sns.heatmap(numeric_column_corr,\n",
    "            annot = True,\n",
    "            cmap=\"vlag_r\",\n",
    "            vmax = 1,\n",
    "            vmin = -1,\n",
    "            mask=np.triu(np.ones(numeric_column_corr.shape)))\n",
    "plt.show()"
   ]
  },
  {
   "cell_type": "markdown",
   "id": "b36b57d1-f392-41f5-adad-5725b18e08df",
   "metadata": {},
   "source": [
    "## Note:\n",
    "\n",
    "- Vote_count positively correlated with both revenue and budget.\n",
    "- Revenue and budget positively correlated."
   ]
  },
  {
   "cell_type": "code",
   "execution_count": 14,
   "id": "12fe91ac-0093-4609-85f4-df1155fbe6a2",
   "metadata": {
    "tags": []
   },
   "outputs": [],
   "source": [
    "max_budget_row = df.loc[df['budget'].idxmax()]"
   ]
  },
  {
   "cell_type": "code",
   "execution_count": 15,
   "id": "93a7ad9c-9582-4f97-8971-255ff556a5dd",
   "metadata": {
    "tags": []
   },
   "outputs": [
    {
     "data": {
      "text/plain": [
       "budget                                                          380000000\n",
       "genres                  [{\"id\": 12, \"name\": \"Adventure\"}, {\"id\": 28, \"...\n",
       "homepage                http://disney.go.com/pirates/index-on-stranger...\n",
       "id                                                                   1865\n",
       "keywords                [{\"id\": 658, \"name\": \"sea\"}, {\"id\": 1316, \"nam...\n",
       "original_language                                                      en\n",
       "original_title                Pirates of the Caribbean: On Stranger Tides\n",
       "overview                Captain Jack Sparrow crosses paths with a woma...\n",
       "popularity                                                     135.413856\n",
       "production_companies    [{\"name\": \"Walt Disney Pictures\", \"id\": 2}, {\"...\n",
       "production_countries    [{\"iso_3166_1\": \"US\", \"name\": \"United States o...\n",
       "release_date                                                   2011-05-14\n",
       "revenue                                                        1045713802\n",
       "runtime                                                             136.0\n",
       "spoken_languages        [{\"iso_639_1\": \"en\", \"name\": \"English\"}, {\"iso...\n",
       "status                                                           Released\n",
       "tagline                                       Live Forever Or Die Trying.\n",
       "title                         Pirates of the Caribbean: On Stranger Tides\n",
       "vote_average                                                          6.4\n",
       "vote_count                                                           4948\n",
       "Name: 17, dtype: object"
      ]
     },
     "execution_count": 15,
     "metadata": {},
     "output_type": "execute_result"
    }
   ],
   "source": [
    "max_budget_row"
   ]
  },
  {
   "cell_type": "code",
   "execution_count": 16,
   "id": "cb85e9c9-eacb-4902-bcfc-8353e910e66c",
   "metadata": {
    "tags": []
   },
   "outputs": [],
   "source": [
    "min_budget_row = df.loc[df['budget'].idxmin()]"
   ]
  },
  {
   "cell_type": "code",
   "execution_count": 17,
   "id": "73ffd5d0-75b7-4700-bdc1-953a354a7ed2",
   "metadata": {
    "tags": []
   },
   "outputs": [
    {
     "data": {
      "text/plain": [
       "budget                                                                  0\n",
       "genres                  [{\"id\": 35, \"name\": \"Comedy\"}, {\"id\": 14, \"nam...\n",
       "homepage                                                              N/A\n",
       "id                                                                  10588\n",
       "keywords                [{\"id\": 977, \"name\": \"cat\"}, {\"id\": 1155, \"nam...\n",
       "original_language                                                      en\n",
       "original_title                                         The Cat in the Hat\n",
       "overview                Conrad and Sally Walden are home alone with th...\n",
       "popularity                                                      18.251129\n",
       "production_companies    [{\"name\": \"Imagine Entertainment\", \"id\": 23}, ...\n",
       "production_countries    [{\"iso_3166_1\": \"US\", \"name\": \"United States o...\n",
       "release_date                                                   2003-11-21\n",
       "revenue                                                                 0\n",
       "runtime                                                              82.0\n",
       "spoken_languages                 [{\"iso_639_1\": \"en\", \"name\": \"English\"}]\n",
       "status                                                           Released\n",
       "tagline                                          Don't mess with the hat.\n",
       "title                                                  The Cat in the Hat\n",
       "vote_average                                                          4.9\n",
       "vote_count                                                            366\n",
       "Name: 265, dtype: object"
      ]
     },
     "execution_count": 17,
     "metadata": {},
     "output_type": "execute_result"
    }
   ],
   "source": [
    "min_budget_row"
   ]
  },
  {
   "cell_type": "markdown",
   "id": "1b11feec-e618-472a-9727-94053ad3a99e",
   "metadata": {
    "tags": []
   },
   "source": [
    "## Note:\n",
    "\n",
    "It is unlikely that a movie had a budget of 0. This is likely to be a placeholder value."
   ]
  },
  {
   "cell_type": "code",
   "execution_count": 18,
   "id": "e7667726-2d2b-47bc-8cad-a8d70e0a67a2",
   "metadata": {
    "tags": []
   },
   "outputs": [],
   "source": [
    "max_revenue_row = df.loc[df['revenue'].idxmax()]"
   ]
  },
  {
   "cell_type": "code",
   "execution_count": 19,
   "id": "8414fea9-a83b-4ea8-a84f-589c11b93c0a",
   "metadata": {
    "tags": []
   },
   "outputs": [
    {
     "data": {
      "text/plain": [
       "budget                                                          237000000\n",
       "genres                  [{\"id\": 28, \"name\": \"Action\"}, {\"id\": 12, \"nam...\n",
       "homepage                                      http://www.avatarmovie.com/\n",
       "id                                                                  19995\n",
       "keywords                [{\"id\": 1463, \"name\": \"culture clash\"}, {\"id\":...\n",
       "original_language                                                      en\n",
       "original_title                                                     Avatar\n",
       "overview                In the 22nd century, a paraplegic Marine is di...\n",
       "popularity                                                     150.437577\n",
       "production_companies    [{\"name\": \"Ingenious Film Partners\", \"id\": 289...\n",
       "production_countries    [{\"iso_3166_1\": \"US\", \"name\": \"United States o...\n",
       "release_date                                                   2009-12-10\n",
       "revenue                                                        2787965087\n",
       "runtime                                                             162.0\n",
       "spoken_languages        [{\"iso_639_1\": \"en\", \"name\": \"English\"}, {\"iso...\n",
       "status                                                           Released\n",
       "tagline                                       Enter the World of Pandora.\n",
       "title                                                              Avatar\n",
       "vote_average                                                          7.2\n",
       "vote_count                                                          11800\n",
       "Name: 0, dtype: object"
      ]
     },
     "execution_count": 19,
     "metadata": {},
     "output_type": "execute_result"
    }
   ],
   "source": [
    "max_revenue_row"
   ]
  },
  {
   "cell_type": "code",
   "execution_count": 20,
   "id": "30bf584d-495c-4b43-80fb-2cc7a993a1f0",
   "metadata": {
    "tags": []
   },
   "outputs": [],
   "source": [
    "min_revenue_row = df.loc[df['revenue'].idxmin()]"
   ]
  },
  {
   "cell_type": "code",
   "execution_count": 21,
   "id": "58c9e505-1c39-42b6-8eff-b81daf2ac125",
   "metadata": {
    "tags": []
   },
   "outputs": [
    {
     "data": {
      "text/plain": [
       "budget                                                           27000000\n",
       "genres                  [{\"id\": 28, \"name\": \"Action\"}, {\"id\": 12, \"nam...\n",
       "homepage                                                              N/A\n",
       "id                                                                  79698\n",
       "keywords                                                               []\n",
       "original_language                                                      en\n",
       "original_title                                                 The Lovers\n",
       "overview                The Lovers is an epic romance time travel adve...\n",
       "popularity                                                       2.418535\n",
       "production_companies    [{\"name\": \"Corsan\", \"id\": 7299}, {\"name\": \"Bli...\n",
       "production_countries    [{\"iso_3166_1\": \"AU\", \"name\": \"Australia\"}, {\"...\n",
       "release_date                                                   2015-02-13\n",
       "revenue                                                                 0\n",
       "runtime                                                             109.0\n",
       "spoken_languages                 [{\"iso_639_1\": \"en\", \"name\": \"English\"}]\n",
       "status                                                           Released\n",
       "tagline                                         Love is longer than life.\n",
       "title                                                          The Lovers\n",
       "vote_average                                                          4.8\n",
       "vote_count                                                             34\n",
       "Name: 83, dtype: object"
      ]
     },
     "execution_count": 21,
     "metadata": {},
     "output_type": "execute_result"
    }
   ],
   "source": [
    "min_revenue_row"
   ]
  },
  {
   "cell_type": "markdown",
   "id": "27bda2f9-5bb1-497d-9e0a-7ef24ca55192",
   "metadata": {},
   "source": [
    "## Note:\n",
    "\n",
    "It is unlikely that a movie had a revenue of 0. This is likely to be a placeholder value."
   ]
  },
  {
   "cell_type": "markdown",
   "id": "e423f68e-b952-49c8-81da-460b721551ec",
   "metadata": {},
   "source": [
    "Replacing placeholder values"
   ]
  },
  {
   "cell_type": "code",
   "execution_count": 22,
   "id": "c9b80fbe-28de-4ac8-8519-ce4ebb3ea7e3",
   "metadata": {
    "tags": []
   },
   "outputs": [
    {
     "name": "stdout",
     "output_type": "stream",
     "text": [
      "<class 'pandas.core.frame.DataFrame'>\n",
      "Index: 4799 entries, 0 to 4802\n",
      "Data columns (total 20 columns):\n",
      " #   Column                Non-Null Count  Dtype  \n",
      "---  ------                --------------  -----  \n",
      " 0   budget                4799 non-null   int64  \n",
      " 1   genres                4799 non-null   object \n",
      " 2   homepage              4799 non-null   object \n",
      " 3   id                    4799 non-null   int64  \n",
      " 4   keywords              4799 non-null   object \n",
      " 5   original_language     4799 non-null   object \n",
      " 6   original_title        4799 non-null   object \n",
      " 7   overview              4799 non-null   object \n",
      " 8   popularity            4799 non-null   float64\n",
      " 9   production_companies  4799 non-null   object \n",
      " 10  production_countries  4799 non-null   object \n",
      " 11  release_date          4799 non-null   object \n",
      " 12  revenue               4799 non-null   int64  \n",
      " 13  runtime               4799 non-null   float64\n",
      " 14  spoken_languages      4799 non-null   object \n",
      " 15  status                4799 non-null   object \n",
      " 16  tagline               4799 non-null   object \n",
      " 17  title                 4799 non-null   object \n",
      " 18  vote_average          4799 non-null   float64\n",
      " 19  vote_count            4799 non-null   int64  \n",
      "dtypes: float64(3), int64(4), object(13)\n",
      "memory usage: 916.4+ KB\n"
     ]
    }
   ],
   "source": [
    "df.info()"
   ]
  },
  {
   "cell_type": "code",
   "execution_count": 23,
   "id": "4079c92a-2df3-4501-b870-f981fd7b157c",
   "metadata": {
    "tags": []
   },
   "outputs": [],
   "source": [
    "df['budget'] = df.budget.replace(0, pd.NA)\n",
    "df['budget'] = pd.to_numeric(df['budget'], errors='coerce')"
   ]
  },
  {
   "cell_type": "code",
   "execution_count": 24,
   "id": "a0555a22-1909-4dcd-9307-c4d9f117d363",
   "metadata": {
    "tags": []
   },
   "outputs": [],
   "source": [
    "df['revenue'] = df.revenue.replace(0, pd.NA)\n",
    "df['revenue'] = pd.to_numeric(df['revenue'], errors='coerce')"
   ]
  },
  {
   "cell_type": "code",
   "execution_count": 25,
   "id": "29e24eea-27d6-4888-94ef-1d82eb90efa7",
   "metadata": {
    "tags": []
   },
   "outputs": [
    {
     "data": {
      "text/plain": [
       "1.0"
      ]
     },
     "execution_count": 25,
     "metadata": {},
     "output_type": "execute_result"
    }
   ],
   "source": [
    "df.budget.min()"
   ]
  },
  {
   "cell_type": "code",
   "execution_count": 26,
   "id": "77baf8e3-ee96-464f-8125-42ebfc2b52e5",
   "metadata": {
    "tags": []
   },
   "outputs": [
    {
     "data": {
      "text/plain": [
       "5.0"
      ]
     },
     "execution_count": 26,
     "metadata": {},
     "output_type": "execute_result"
    }
   ],
   "source": [
    "df.revenue.min()"
   ]
  },
  {
   "cell_type": "code",
   "execution_count": 27,
   "id": "e4b22f91-f7f2-4e08-9ca0-cfe97d6d0cd4",
   "metadata": {
    "tags": []
   },
   "outputs": [
    {
     "name": "stdout",
     "output_type": "stream",
     "text": [
      "<class 'pandas.core.frame.DataFrame'>\n",
      "Index: 4799 entries, 0 to 4802\n",
      "Data columns (total 20 columns):\n",
      " #   Column                Non-Null Count  Dtype  \n",
      "---  ------                --------------  -----  \n",
      " 0   budget                3763 non-null   float64\n",
      " 1   genres                4799 non-null   object \n",
      " 2   homepage              4799 non-null   object \n",
      " 3   id                    4799 non-null   int64  \n",
      " 4   keywords              4799 non-null   object \n",
      " 5   original_language     4799 non-null   object \n",
      " 6   original_title        4799 non-null   object \n",
      " 7   overview              4799 non-null   object \n",
      " 8   popularity            4799 non-null   float64\n",
      " 9   production_companies  4799 non-null   object \n",
      " 10  production_countries  4799 non-null   object \n",
      " 11  release_date          4799 non-null   object \n",
      " 12  revenue               3376 non-null   float64\n",
      " 13  runtime               4799 non-null   float64\n",
      " 14  spoken_languages      4799 non-null   object \n",
      " 15  status                4799 non-null   object \n",
      " 16  tagline               4799 non-null   object \n",
      " 17  title                 4799 non-null   object \n",
      " 18  vote_average          4799 non-null   float64\n",
      " 19  vote_count            4799 non-null   int64  \n",
      "dtypes: float64(5), int64(2), object(13)\n",
      "memory usage: 916.4+ KB\n"
     ]
    }
   ],
   "source": [
    "df.info()"
   ]
  },
  {
   "cell_type": "markdown",
   "id": "2bc4f1ee-585c-4398-9a72-8758ff5a7e00",
   "metadata": {},
   "source": [
    "These values are still too small for a budget or a revenue. Perhaps they're in millions?"
   ]
  },
  {
   "cell_type": "code",
   "execution_count": 28,
   "id": "fa81a018-348d-499b-ae56-eb36a863ed82",
   "metadata": {
    "tags": []
   },
   "outputs": [
    {
     "data": {
      "text/plain": [
       "<Axes: ylabel='Frequency'>"
      ]
     },
     "execution_count": 28,
     "metadata": {},
     "output_type": "execute_result"
    },
    {
     "data": {
      "image/png": "[encoded data removed]",
      "text/plain": [
       "<Figure size 640x480 with 1 Axes>"
      ]
     },
     "metadata": {},
     "output_type": "display_data"
    }
   ],
   "source": [
    "## Plotting a histogram of the distribution of revenue.\n",
    "df.revenue.plot(kind = 'hist', bins = 30, edgecolor='black')"
   ]
  },
  {
   "cell_type": "markdown",
   "id": "664d34bd-5a12-488d-9779-356bcbe22a72",
   "metadata": {},
   "source": [
    "## Note:\n",
    "\n",
    "Positive skew. Most values are in the first bin so are below roughly 100,000,000."
   ]
  },
  {
   "cell_type": "code",
   "execution_count": 29,
   "id": "ef5644ac-345f-4e45-af27-e9cf9326de55",
   "metadata": {
    "tags": []
   },
   "outputs": [
    {
     "data": {
      "text/plain": [
       "<Axes: ylabel='Frequency'>"
      ]
     },
     "execution_count": 29,
     "metadata": {},
     "output_type": "execute_result"
    },
    {
     "data": {
      "image/png": "[encoded data removed]",
      "text/plain": [
       "<Figure size 640x480 with 1 Axes>"
      ]
     },
     "metadata": {},
     "output_type": "display_data"
    }
   ],
   "source": [
    "## Plotting a histogram of the distribution of budget.\n",
    "df.budget.plot(kind = 'hist', bins = 30, edgecolor='black')"
   ]
  },
  {
   "cell_type": "markdown",
   "id": "20e51c41-129a-43c6-ada6-5c66694fa61f",
   "metadata": {
    "tags": []
   },
   "source": [
    "## Note:\n",
    "\n",
    "Positive skew. Most values are in the first two bins so are below roughly 12,500,000."
   ]
  },
  {
   "cell_type": "code",
   "execution_count": 30,
   "id": "4b5bef8b-a07b-4b86-b6ae-879ae7910921",
   "metadata": {
    "tags": []
   },
   "outputs": [
    {
     "data": {
      "text/plain": [
       "37068140.717246875"
      ]
     },
     "execution_count": 30,
     "metadata": {},
     "output_type": "execute_result"
    }
   ],
   "source": [
    "## Finding the mean budget.\n",
    "df.budget.mean()"
   ]
  },
  {
   "cell_type": "code",
   "execution_count": 31,
   "id": "71065f98-fdef-4f8b-8835-483384791266",
   "metadata": {
    "tags": []
   },
   "outputs": [
    {
     "data": {
      "text/plain": [
       "117031352.91587678"
      ]
     },
     "execution_count": 31,
     "metadata": {},
     "output_type": "execute_result"
    }
   ],
   "source": [
    "## Finding the mean revenue.\n",
    "df.revenue.mean()"
   ]
  },
  {
   "cell_type": "code",
   "execution_count": 32,
   "id": "0e7a1fae-c72f-474f-a127-95223666373a",
   "metadata": {
    "tags": []
   },
   "outputs": [],
   "source": [
    "## Finding the mean profit.\n",
    "mean_profit = round(df.revenue.mean() - df.budget.mean(),2)"
   ]
  },
  {
   "cell_type": "code",
   "execution_count": 33,
   "id": "84590aea-8141-4fc1-a21e-0fd6b6eafcd7",
   "metadata": {
    "tags": []
   },
   "outputs": [
    {
     "data": {
      "text/plain": [
       "79963212.2"
      ]
     },
     "execution_count": 33,
     "metadata": {},
     "output_type": "execute_result"
    }
   ],
   "source": [
    "mean_profit"
   ]
  },
  {
   "cell_type": "markdown",
   "id": "bc228664-0ee9-4ad0-8aa2-75804ac88753",
   "metadata": {},
   "source": [
    "## To do:\n",
    "\n",
    "- Look further into the lower values of budget and revenue. Why are some figures so low?\n",
    "- Explore other measures of central tendency. Add a column showing profit using the best measure. Also custom fill new null values for revenue and budget with a suitable measure of central tendency."
   ]
  },
  {
   "cell_type": "markdown",
   "id": "32d765d8-35f0-4942-92a9-05c1ef1abc28",
   "metadata": {
    "tags": []
   },
   "source": [
    "## Exploring Object Data Values"
   ]
  },
  {
   "cell_type": "code",
   "execution_count": 34,
   "id": "f7a481c8-2356-4cb4-98d6-96ea89e687e5",
   "metadata": {
    "tags": []
   },
   "outputs": [
    {
     "data": {
      "text/plain": [
       "0"
      ]
     },
     "execution_count": 34,
     "metadata": {},
     "output_type": "execute_result"
    }
   ],
   "source": [
    "## finding duplicates\n",
    "\n",
    "df.duplicated().sum()"
   ]
  },
  {
   "cell_type": "code",
   "execution_count": 35,
   "id": "4ad98c04-fe2f-44ed-afbd-6a50bab04605",
   "metadata": {
    "tags": []
   },
   "outputs": [
    {
     "data": {
      "text/plain": [
       "budget                   433\n",
       "genres                  1175\n",
       "homepage                1692\n",
       "id                      4799\n",
       "keywords                4220\n",
       "original_language         37\n",
       "original_title          4797\n",
       "overview                4799\n",
       "popularity              4798\n",
       "production_companies    3695\n",
       "production_countries     469\n",
       "release_date            3278\n",
       "revenue                 3296\n",
       "runtime                  156\n",
       "spoken_languages         544\n",
       "status                     3\n",
       "tagline                 3945\n",
       "title                   4796\n",
       "vote_average              71\n",
       "vote_count              1609\n",
       "dtype: int64"
      ]
     },
     "execution_count": 35,
     "metadata": {},
     "output_type": "execute_result"
    }
   ],
   "source": [
    "## Checking no. of unique values in columns.\n",
    "df.nunique()"
   ]
  },
  {
   "cell_type": "code",
   "execution_count": 36,
   "id": "2c56fa6a-313c-42f7-9594-1a4ffec2aaa0",
   "metadata": {
    "tags": []
   },
   "outputs": [
    {
     "data": {
      "text/plain": [
       "4799"
      ]
     },
     "execution_count": 36,
     "metadata": {},
     "output_type": "execute_result"
    }
   ],
   "source": [
    "df['original_language'].count()"
   ]
  },
  {
   "cell_type": "code",
   "execution_count": 37,
   "id": "b443e00b-bab8-4740-97e4-5395839991df",
   "metadata": {
    "tags": []
   },
   "outputs": [
    {
     "data": {
      "text/plain": [
       "array(['en', 'ja', 'fr', 'zh', 'es', 'de', 'hi', 'ru', 'ko', 'te', 'cn',\n",
       "       'it', 'nl', 'ta', 'sv', 'th', 'da', 'xx', 'hu', 'cs', 'pt', 'is',\n",
       "       'tr', 'nb', 'af', 'pl', 'he', 'ar', 'vi', 'ky', 'id', 'ro', 'fa',\n",
       "       'no', 'sl', 'ps', 'el'], dtype=object)"
      ]
     },
     "execution_count": 37,
     "metadata": {},
     "output_type": "execute_result"
    }
   ],
   "source": [
    "## unique original language values\n",
    "df.original_language.unique()"
   ]
  },
  {
   "cell_type": "code",
   "execution_count": 38,
   "id": "b2962279-e718-4872-867a-c1117aad4114",
   "metadata": {
    "tags": []
   },
   "outputs": [],
   "source": [
    "## Making original lanugage column categorical\n",
    "df['original_language'] = df.original_language.astype('category')"
   ]
  },
  {
   "cell_type": "markdown",
   "id": "8cbda5cd-15f1-4418-bfd2-e570fa42b4e9",
   "metadata": {
    "tags": []
   },
   "source": [
    "### Note:\n",
    "\n",
    "'original_language' was made to be categorical."
   ]
  },
  {
   "cell_type": "code",
   "execution_count": 66,
   "id": "83857239-41d1-4139-96c2-9fc7de3ccbe5",
   "metadata": {
    "tags": []
   },
   "outputs": [
    {
     "data": {
      "image/png": "[encoded data removed]",
      "text/plain": [
       "<Figure size 640x480 with 1 Axes>"
      ]
     },
     "metadata": {},
     "output_type": "display_data"
    }
   ],
   "source": [
    "## Bar chart showing the language category counts\n",
    "sns.countplot(data = df, x = 'original_language')\n",
    "observed = False\n",
    "plt.xticks(rotation=90)\n",
    "plt.title('original language categories')\n",
    "plt.show()"
   ]
  },
  {
   "cell_type": "code",
   "execution_count": 40,
   "id": "e905d7a3-026d-41bd-b68f-feae4808845e",
   "metadata": {
    "tags": []
   },
   "outputs": [
    {
     "data": {
      "text/plain": [
       "original_language\n",
       "en    4503\n",
       "fr      70\n",
       "es      32\n",
       "zh      27\n",
       "de      26\n",
       "hi      19\n",
       "ja      16\n",
       "it      13\n",
       "cn      12\n",
       "ru      11\n",
       "ko      11\n",
       "pt       9\n",
       "da       7\n",
       "sv       5\n",
       "fa       4\n",
       "nl       4\n",
       "he       3\n",
       "th       3\n",
       "ar       2\n",
       "ta       2\n",
       "id       2\n",
       "ro       2\n",
       "cs       2\n",
       "sl       1\n",
       "te       1\n",
       "tr       1\n",
       "vi       1\n",
       "xx       1\n",
       "ps       1\n",
       "pl       1\n",
       "no       1\n",
       "nb       1\n",
       "ky       1\n",
       "el       1\n",
       "is       1\n",
       "hu       1\n",
       "af       1\n",
       "Name: count, dtype: int64"
      ]
     },
     "execution_count": 40,
     "metadata": {},
     "output_type": "execute_result"
    }
   ],
   "source": [
    "orig_lan_value_counts = df['original_language'].value_counts()\n",
    "orig_lan_value_counts"
   ]
  },
  {
   "cell_type": "markdown",
   "id": "2f330039-3550-4f71-8bc7-140b59696b06",
   "metadata": {},
   "source": [
    "## Note:\n",
    "\n",
    "Dataset contains films mostly with an original_language value of 'en'."
   ]
  },
  {
   "cell_type": "markdown",
   "id": "b12913a2-be51-413f-a447-6b1668dc34e3",
   "metadata": {
    "tags": []
   },
   "source": [
    "## To do:\n",
    "\n",
    "Find percentage of orig_lang en vs rest."
   ]
  },
  {
   "cell_type": "markdown",
   "id": "c3f165b3-0f75-4d42-a76a-14c100de7899",
   "metadata": {},
   "source": [
    "### Note:\n",
    "\n",
    "'status' was made to be categorical."
   ]
  },
  {
   "cell_type": "code",
   "execution_count": 41,
   "id": "d35c9bd9-0fda-467e-b4aa-1c1e7cbd9ab6",
   "metadata": {
    "tags": []
   },
   "outputs": [
    {
     "data": {
      "text/plain": [
       "array(['Released', 'Post Production', 'Rumored'], dtype=object)"
      ]
     },
     "execution_count": 41,
     "metadata": {},
     "output_type": "execute_result"
    }
   ],
   "source": [
    "## unique status values\n",
    "df['status'].unique()"
   ]
  },
  {
   "cell_type": "code",
   "execution_count": 42,
   "id": "64db0148-d753-49af-9d5a-66810cfb324a",
   "metadata": {
    "tags": []
   },
   "outputs": [],
   "source": [
    "## Making status columns Dtype of category\n",
    "df['status'] = df.status.astype('category')"
   ]
  },
  {
   "cell_type": "code",
   "execution_count": 43,
   "id": "1f2813d8-eb43-4964-8fae-0983b2d05a3d",
   "metadata": {
    "tags": []
   },
   "outputs": [
    {
     "data": {
      "text/plain": [
       "['Released', 'Post Production', 'Rumored']\n",
       "Categories (3, object): ['Post Production', 'Released', 'Rumored']"
      ]
     },
     "execution_count": 43,
     "metadata": {},
     "output_type": "execute_result"
    }
   ],
   "source": [
    "df['status'].unique()"
   ]
  },
  {
   "cell_type": "code",
   "execution_count": 67,
   "id": "fd800de6-6f07-452b-8481-7fb8687d081c",
   "metadata": {
    "tags": []
   },
   "outputs": [
    {
     "data": {
      "image/png": "[encoded data removed]",
      "text/plain": [
       "<Figure size 640x480 with 1 Axes>"
      ]
     },
     "metadata": {},
     "output_type": "display_data"
    }
   ],
   "source": [
    "## Plotting bar chart of the status categories and their counts.\n",
    "observed = False\n",
    "sns.countplot(data = df, x = 'status')\n",
    "plt.title('status categories')\n",
    "plt.show()"
   ]
  },
  {
   "cell_type": "code",
   "execution_count": 45,
   "id": "babb5ce9-f065-4b6a-a38c-ef528d4d6a81",
   "metadata": {
    "tags": []
   },
   "outputs": [
    {
     "data": {
      "text/plain": [
       "status\n",
       "Released           4791\n",
       "Rumored               5\n",
       "Post Production       3\n",
       "Name: count, dtype: int64"
      ]
     },
     "execution_count": 45,
     "metadata": {},
     "output_type": "execute_result"
    }
   ],
   "source": [
    "status_value_counts = df['status'].value_counts()\n",
    "status_value_counts"
   ]
  },
  {
   "cell_type": "markdown",
   "id": "097e1f84-86c5-4c5f-acbf-a5913d8533f3",
   "metadata": {
    "tags": []
   },
   "source": [
    "### Note:\n",
    "\n",
    "- All but 8 observations are of status 'Released'\n",
    "- Rumored and Post production observations should be removed if the dataset is for released movies. More investigation needed."
   ]
  },
  {
   "cell_type": "code",
   "execution_count": 46,
   "id": "64fc70b0-5e3b-4051-b36e-3a7031fa8756",
   "metadata": {
    "tags": []
   },
   "outputs": [],
   "source": [
    "rumored_status_obs = df[df['status'] == 'Rumored']"
   ]
  },
  {
   "cell_type": "code",
   "execution_count": 47,
   "id": "37d4ee9c-8ad6-4f7f-8645-f56143b4f3ce",
   "metadata": {
    "tags": []
   },
   "outputs": [
    {
     "data": {
      "text/html": [
       "<div>\n",
       "<style scoped>\n",
       "    .dataframe tbody tr th:only-of-type {\n",
       "        vertical-align: middle;\n",
       "    }\n",
       "\n",
       "    .dataframe tbody tr th {\n",
       "        vertical-align: top;\n",
       "    }\n",
       "\n",
       "    .dataframe thead th {\n",
       "        text-align: right;\n",
       "    }\n",
       "</style>\n",
       "<table border=\"1\" class=\"dataframe\">\n",
       "  <thead>\n",
       "    <tr style=\"text-align: right;\">\n",
       "      <th></th>\n",
       "      <th>budget</th>\n",
       "      <th>genres</th>\n",
       "      <th>homepage</th>\n",
       "      <th>id</th>\n",
       "      <th>keywords</th>\n",
       "      <th>original_language</th>\n",
       "      <th>original_title</th>\n",
       "      <th>overview</th>\n",
       "      <th>popularity</th>\n",
       "      <th>production_companies</th>\n",
       "      <th>production_countries</th>\n",
       "      <th>release_date</th>\n",
       "      <th>revenue</th>\n",
       "      <th>runtime</th>\n",
       "      <th>spoken_languages</th>\n",
       "      <th>status</th>\n",
       "      <th>tagline</th>\n",
       "      <th>title</th>\n",
       "      <th>vote_average</th>\n",
       "      <th>vote_count</th>\n",
       "    </tr>\n",
       "  </thead>\n",
       "  <tbody>\n",
       "    <tr>\n",
       "      <th>4401</th>\n",
       "      <td>NaN</td>\n",
       "      <td>[{\"id\": 28, \"name\": \"Action\"}, {\"id\": 35, \"nam...</td>\n",
       "      <td>N/A</td>\n",
       "      <td>43630</td>\n",
       "      <td>[]</td>\n",
       "      <td>en</td>\n",
       "      <td>The Helix... Loaded</td>\n",
       "      <td></td>\n",
       "      <td>0.020600</td>\n",
       "      <td>[]</td>\n",
       "      <td>[{\"iso_3166_1\": \"US\", \"name\": \"United States o...</td>\n",
       "      <td>2005-01-01</td>\n",
       "      <td>NaN</td>\n",
       "      <td>97.0</td>\n",
       "      <td>[{\"iso_639_1\": \"en\", \"name\": \"English\"}]</td>\n",
       "      <td>Rumored</td>\n",
       "      <td>N/A</td>\n",
       "      <td>The Helix... Loaded</td>\n",
       "      <td>4.8</td>\n",
       "      <td>2</td>\n",
       "    </tr>\n",
       "    <tr>\n",
       "      <th>4453</th>\n",
       "      <td>NaN</td>\n",
       "      <td>[{\"id\": 35, \"name\": \"Comedy\"}, {\"id\": 18, \"nam...</td>\n",
       "      <td>N/A</td>\n",
       "      <td>57294</td>\n",
       "      <td>[{\"id\": 1930, \"name\": \"kidnapping\"}, {\"id\": 97...</td>\n",
       "      <td>en</td>\n",
       "      <td>Crying with Laughter</td>\n",
       "      <td>Powerfully redemptive and darkly comedic reven...</td>\n",
       "      <td>0.108135</td>\n",
       "      <td>[{\"name\": \"Scottish Screen\", \"id\": 698}, {\"nam...</td>\n",
       "      <td>[{\"iso_3166_1\": \"GB\", \"name\": \"United Kingdom\"}]</td>\n",
       "      <td>2009-06-01</td>\n",
       "      <td>NaN</td>\n",
       "      <td>93.0</td>\n",
       "      <td>[{\"iso_639_1\": \"en\", \"name\": \"English\"}]</td>\n",
       "      <td>Rumored</td>\n",
       "      <td>A Bad Trip Down Memory Lane</td>\n",
       "      <td>Crying with Laughter</td>\n",
       "      <td>7.0</td>\n",
       "      <td>1</td>\n",
       "    </tr>\n",
       "    <tr>\n",
       "      <th>4508</th>\n",
       "      <td>56000.0</td>\n",
       "      <td>[{\"id\": 99, \"name\": \"Documentary\"}]</td>\n",
       "      <td>http://www.facebook.com/theharvestfilm</td>\n",
       "      <td>70875</td>\n",
       "      <td>[{\"id\": 1729, \"name\": \"migration\"}, {\"id\": 190...</td>\n",
       "      <td>en</td>\n",
       "      <td>The Harvest (La Cosecha)</td>\n",
       "      <td>The story of the children who work 12-14 hour ...</td>\n",
       "      <td>0.010909</td>\n",
       "      <td>[]</td>\n",
       "      <td>[]</td>\n",
       "      <td>2011-07-29</td>\n",
       "      <td>NaN</td>\n",
       "      <td>80.0</td>\n",
       "      <td>[]</td>\n",
       "      <td>Rumored</td>\n",
       "      <td>N/A</td>\n",
       "      <td>The Harvest (La Cosecha)</td>\n",
       "      <td>0.0</td>\n",
       "      <td>0</td>\n",
       "    </tr>\n",
       "    <tr>\n",
       "      <th>4662</th>\n",
       "      <td>NaN</td>\n",
       "      <td>[{\"id\": 35, \"name\": \"Comedy\"}]</td>\n",
       "      <td>N/A</td>\n",
       "      <td>40963</td>\n",
       "      <td>[{\"id\": 10183, \"name\": \"independent film\"}]</td>\n",
       "      <td>en</td>\n",
       "      <td>Little Big Top</td>\n",
       "      <td>An aging out of work clown returns to his smal...</td>\n",
       "      <td>0.092100</td>\n",
       "      <td>[{\"name\": \"Fly High Films\", \"id\": 24248}]</td>\n",
       "      <td>[{\"iso_3166_1\": \"US\", \"name\": \"United States o...</td>\n",
       "      <td>2006-01-01</td>\n",
       "      <td>NaN</td>\n",
       "      <td>0.0</td>\n",
       "      <td>[{\"iso_639_1\": \"en\", \"name\": \"English\"}]</td>\n",
       "      <td>Rumored</td>\n",
       "      <td>N/A</td>\n",
       "      <td>Little Big Top</td>\n",
       "      <td>10.0</td>\n",
       "      <td>1</td>\n",
       "    </tr>\n",
       "    <tr>\n",
       "      <th>4754</th>\n",
       "      <td>NaN</td>\n",
       "      <td>[{\"id\": 18, \"name\": \"Drama\"}, {\"id\": 35, \"name...</td>\n",
       "      <td>N/A</td>\n",
       "      <td>84659</td>\n",
       "      <td>[]</td>\n",
       "      <td>en</td>\n",
       "      <td>The Naked Ape</td>\n",
       "      <td>The Naked Ape is a coming-of-age film followin...</td>\n",
       "      <td>0.077577</td>\n",
       "      <td>[]</td>\n",
       "      <td>[]</td>\n",
       "      <td>2006-09-16</td>\n",
       "      <td>NaN</td>\n",
       "      <td>110.0</td>\n",
       "      <td>[]</td>\n",
       "      <td>Rumored</td>\n",
       "      <td>N/A</td>\n",
       "      <td>The Naked Ape</td>\n",
       "      <td>5.0</td>\n",
       "      <td>1</td>\n",
       "    </tr>\n",
       "  </tbody>\n",
       "</table>\n",
       "</div>"
      ],
      "text/plain": [
       "       budget                                             genres  \\\n",
       "4401      NaN  [{\"id\": 28, \"name\": \"Action\"}, {\"id\": 35, \"nam...   \n",
       "4453      NaN  [{\"id\": 35, \"name\": \"Comedy\"}, {\"id\": 18, \"nam...   \n",
       "4508  56000.0                [{\"id\": 99, \"name\": \"Documentary\"}]   \n",
       "4662      NaN                     [{\"id\": 35, \"name\": \"Comedy\"}]   \n",
       "4754      NaN  [{\"id\": 18, \"name\": \"Drama\"}, {\"id\": 35, \"name...   \n",
       "\n",
       "                                    homepage     id  \\\n",
       "4401                                     N/A  43630   \n",
       "4453                                     N/A  57294   \n",
       "4508  http://www.facebook.com/theharvestfilm  70875   \n",
       "4662                                     N/A  40963   \n",
       "4754                                     N/A  84659   \n",
       "\n",
       "                                               keywords original_language  \\\n",
       "4401                                                 []                en   \n",
       "4453  [{\"id\": 1930, \"name\": \"kidnapping\"}, {\"id\": 97...                en   \n",
       "4508  [{\"id\": 1729, \"name\": \"migration\"}, {\"id\": 190...                en   \n",
       "4662        [{\"id\": 10183, \"name\": \"independent film\"}]                en   \n",
       "4754                                                 []                en   \n",
       "\n",
       "                original_title  \\\n",
       "4401       The Helix... Loaded   \n",
       "4453      Crying with Laughter   \n",
       "4508  The Harvest (La Cosecha)   \n",
       "4662            Little Big Top   \n",
       "4754             The Naked Ape   \n",
       "\n",
       "                                               overview  popularity  \\\n",
       "4401                                                       0.020600   \n",
       "4453  Powerfully redemptive and darkly comedic reven...    0.108135   \n",
       "4508  The story of the children who work 12-14 hour ...    0.010909   \n",
       "4662  An aging out of work clown returns to his smal...    0.092100   \n",
       "4754  The Naked Ape is a coming-of-age film followin...    0.077577   \n",
       "\n",
       "                                   production_companies  \\\n",
       "4401                                                 []   \n",
       "4453  [{\"name\": \"Scottish Screen\", \"id\": 698}, {\"nam...   \n",
       "4508                                                 []   \n",
       "4662          [{\"name\": \"Fly High Films\", \"id\": 24248}]   \n",
       "4754                                                 []   \n",
       "\n",
       "                                   production_countries release_date  revenue  \\\n",
       "4401  [{\"iso_3166_1\": \"US\", \"name\": \"United States o...   2005-01-01      NaN   \n",
       "4453   [{\"iso_3166_1\": \"GB\", \"name\": \"United Kingdom\"}]   2009-06-01      NaN   \n",
       "4508                                                 []   2011-07-29      NaN   \n",
       "4662  [{\"iso_3166_1\": \"US\", \"name\": \"United States o...   2006-01-01      NaN   \n",
       "4754                                                 []   2006-09-16      NaN   \n",
       "\n",
       "      runtime                          spoken_languages   status  \\\n",
       "4401     97.0  [{\"iso_639_1\": \"en\", \"name\": \"English\"}]  Rumored   \n",
       "4453     93.0  [{\"iso_639_1\": \"en\", \"name\": \"English\"}]  Rumored   \n",
       "4508     80.0                                        []  Rumored   \n",
       "4662      0.0  [{\"iso_639_1\": \"en\", \"name\": \"English\"}]  Rumored   \n",
       "4754    110.0                                        []  Rumored   \n",
       "\n",
       "                          tagline                     title  vote_average  \\\n",
       "4401                          N/A       The Helix... Loaded           4.8   \n",
       "4453  A Bad Trip Down Memory Lane      Crying with Laughter           7.0   \n",
       "4508                          N/A  The Harvest (La Cosecha)           0.0   \n",
       "4662                          N/A            Little Big Top          10.0   \n",
       "4754                          N/A             The Naked Ape           5.0   \n",
       "\n",
       "      vote_count  \n",
       "4401           2  \n",
       "4453           1  \n",
       "4508           0  \n",
       "4662           1  \n",
       "4754           1  "
      ]
     },
     "execution_count": 47,
     "metadata": {},
     "output_type": "execute_result"
    }
   ],
   "source": [
    "rumored_status_obs"
   ]
  },
  {
   "cell_type": "markdown",
   "id": "1b7981bd-53a8-4511-8ea9-ca557a8acd58",
   "metadata": {},
   "source": [
    "## Note:\n",
    "\n",
    "- Observation 4508 has a budget of 56,000. If the film is only rumored, how can this be the case?\n",
    "- tagline, keywords, production_companies, production_countries, and spoken_languages are absent from this row.\n",
    "\n",
    "\n",
    "- Similarly, why are there votes for these films?\n"
   ]
  },
  {
   "cell_type": "code",
   "execution_count": 48,
   "id": "0d4f9680-c8cc-4ff4-8b90-3adcc29c799c",
   "metadata": {
    "tags": []
   },
   "outputs": [],
   "source": [
    "pp_status_obs = df[df['status'] == 'Post Production']"
   ]
  },
  {
   "cell_type": "code",
   "execution_count": 49,
   "id": "8867a043-e9b8-4b89-a081-f137e32b62ea",
   "metadata": {
    "tags": []
   },
   "outputs": [
    {
     "data": {
      "text/html": [
       "<div>\n",
       "<style scoped>\n",
       "    .dataframe tbody tr th:only-of-type {\n",
       "        vertical-align: middle;\n",
       "    }\n",
       "\n",
       "    .dataframe tbody tr th {\n",
       "        vertical-align: top;\n",
       "    }\n",
       "\n",
       "    .dataframe thead th {\n",
       "        text-align: right;\n",
       "    }\n",
       "</style>\n",
       "<table border=\"1\" class=\"dataframe\">\n",
       "  <thead>\n",
       "    <tr style=\"text-align: right;\">\n",
       "      <th></th>\n",
       "      <th>budget</th>\n",
       "      <th>genres</th>\n",
       "      <th>homepage</th>\n",
       "      <th>id</th>\n",
       "      <th>keywords</th>\n",
       "      <th>original_language</th>\n",
       "      <th>original_title</th>\n",
       "      <th>overview</th>\n",
       "      <th>popularity</th>\n",
       "      <th>production_companies</th>\n",
       "      <th>production_countries</th>\n",
       "      <th>release_date</th>\n",
       "      <th>revenue</th>\n",
       "      <th>runtime</th>\n",
       "      <th>spoken_languages</th>\n",
       "      <th>status</th>\n",
       "      <th>tagline</th>\n",
       "      <th>title</th>\n",
       "      <th>vote_average</th>\n",
       "      <th>vote_count</th>\n",
       "    </tr>\n",
       "  </thead>\n",
       "  <tbody>\n",
       "    <tr>\n",
       "      <th>2906</th>\n",
       "      <td>NaN</td>\n",
       "      <td>[{\"id\": 18, \"name\": \"Drama\"}, {\"id\": 10749, \"n...</td>\n",
       "      <td>https://www.facebook.com/eastsidestorymovie</td>\n",
       "      <td>357837</td>\n",
       "      <td>[{\"id\": 246, \"name\": \"dancing\"}, {\"id\": 271, \"...</td>\n",
       "      <td>cs</td>\n",
       "      <td>Dancin' It's On</td>\n",
       "      <td>This coming of age Dance Film, in the spirit o...</td>\n",
       "      <td>0.186234</td>\n",
       "      <td>[]</td>\n",
       "      <td>[{\"iso_3166_1\": \"US\", \"name\": \"United States o...</td>\n",
       "      <td>2015-10-16</td>\n",
       "      <td>NaN</td>\n",
       "      <td>89.0</td>\n",
       "      <td>[{\"iso_639_1\": \"en\", \"name\": \"English\"}]</td>\n",
       "      <td>Post Production</td>\n",
       "      <td>Dancin' Like You've Never Seen Before</td>\n",
       "      <td>Dancin' It's On</td>\n",
       "      <td>4.3</td>\n",
       "      <td>2</td>\n",
       "    </tr>\n",
       "    <tr>\n",
       "      <th>4169</th>\n",
       "      <td>1900000.0</td>\n",
       "      <td>[{\"id\": 18, \"name\": \"Drama\"}]</td>\n",
       "      <td>N/A</td>\n",
       "      <td>295886</td>\n",
       "      <td>[]</td>\n",
       "      <td>en</td>\n",
       "      <td>Brotherly Love</td>\n",
       "      <td>West Philadelphia basketball star Sergio Taylo...</td>\n",
       "      <td>1.367751</td>\n",
       "      <td>[]</td>\n",
       "      <td>[]</td>\n",
       "      <td>2015-04-24</td>\n",
       "      <td>NaN</td>\n",
       "      <td>89.0</td>\n",
       "      <td>[{\"iso_639_1\": \"en\", \"name\": \"English\"}]</td>\n",
       "      <td>Post Production</td>\n",
       "      <td>N/A</td>\n",
       "      <td>Brotherly Love</td>\n",
       "      <td>6.9</td>\n",
       "      <td>21</td>\n",
       "    </tr>\n",
       "    <tr>\n",
       "      <th>4178</th>\n",
       "      <td>2000000.0</td>\n",
       "      <td>[{\"id\": 18, \"name\": \"Drama\"}, {\"id\": 53, \"name...</td>\n",
       "      <td>http://www.sonyclassics.com/higherground/</td>\n",
       "      <td>50875</td>\n",
       "      <td>[{\"id\": 1009, \"name\": \"baby\"}, {\"id\": 1157, \"n...</td>\n",
       "      <td>en</td>\n",
       "      <td>Higher Ground</td>\n",
       "      <td>A chronicle of one woman's lifelong struggle w...</td>\n",
       "      <td>1.699101</td>\n",
       "      <td>[]</td>\n",
       "      <td>[{\"iso_3166_1\": \"US\", \"name\": \"United States o...</td>\n",
       "      <td>2011-08-26</td>\n",
       "      <td>841733.0</td>\n",
       "      <td>109.0</td>\n",
       "      <td>[{\"iso_639_1\": \"en\", \"name\": \"English\"}]</td>\n",
       "      <td>Post Production</td>\n",
       "      <td>N/A</td>\n",
       "      <td>Higher Ground</td>\n",
       "      <td>5.3</td>\n",
       "      <td>14</td>\n",
       "    </tr>\n",
       "  </tbody>\n",
       "</table>\n",
       "</div>"
      ],
      "text/plain": [
       "         budget                                             genres  \\\n",
       "2906        NaN  [{\"id\": 18, \"name\": \"Drama\"}, {\"id\": 10749, \"n...   \n",
       "4169  1900000.0                      [{\"id\": 18, \"name\": \"Drama\"}]   \n",
       "4178  2000000.0  [{\"id\": 18, \"name\": \"Drama\"}, {\"id\": 53, \"name...   \n",
       "\n",
       "                                         homepage      id  \\\n",
       "2906  https://www.facebook.com/eastsidestorymovie  357837   \n",
       "4169                                          N/A  295886   \n",
       "4178    http://www.sonyclassics.com/higherground/   50875   \n",
       "\n",
       "                                               keywords original_language  \\\n",
       "2906  [{\"id\": 246, \"name\": \"dancing\"}, {\"id\": 271, \"...                cs   \n",
       "4169                                                 []                en   \n",
       "4178  [{\"id\": 1009, \"name\": \"baby\"}, {\"id\": 1157, \"n...                en   \n",
       "\n",
       "       original_title                                           overview  \\\n",
       "2906  Dancin' It's On  This coming of age Dance Film, in the spirit o...   \n",
       "4169   Brotherly Love  West Philadelphia basketball star Sergio Taylo...   \n",
       "4178    Higher Ground  A chronicle of one woman's lifelong struggle w...   \n",
       "\n",
       "      popularity production_companies  \\\n",
       "2906    0.186234                   []   \n",
       "4169    1.367751                   []   \n",
       "4178    1.699101                   []   \n",
       "\n",
       "                                   production_countries release_date  \\\n",
       "2906  [{\"iso_3166_1\": \"US\", \"name\": \"United States o...   2015-10-16   \n",
       "4169                                                 []   2015-04-24   \n",
       "4178  [{\"iso_3166_1\": \"US\", \"name\": \"United States o...   2011-08-26   \n",
       "\n",
       "       revenue  runtime                          spoken_languages  \\\n",
       "2906       NaN     89.0  [{\"iso_639_1\": \"en\", \"name\": \"English\"}]   \n",
       "4169       NaN     89.0  [{\"iso_639_1\": \"en\", \"name\": \"English\"}]   \n",
       "4178  841733.0    109.0  [{\"iso_639_1\": \"en\", \"name\": \"English\"}]   \n",
       "\n",
       "               status                                tagline            title  \\\n",
       "2906  Post Production  Dancin' Like You've Never Seen Before  Dancin' It's On   \n",
       "4169  Post Production                                    N/A   Brotherly Love   \n",
       "4178  Post Production                                    N/A    Higher Ground   \n",
       "\n",
       "      vote_average  vote_count  \n",
       "2906           4.3           2  \n",
       "4169           6.9          21  \n",
       "4178           5.3          14  "
      ]
     },
     "execution_count": 49,
     "metadata": {},
     "output_type": "execute_result"
    }
   ],
   "source": [
    "pp_status_obs "
   ]
  },
  {
   "cell_type": "markdown",
   "id": "69cfede6-b2a9-4a02-b74f-b5f2185bfc80",
   "metadata": {},
   "source": [
    "## Note:\n",
    "\n",
    "- All films seem to have votes which shouldn't be the case for a film in post production.\n",
    "- Observation 4169 and 4178 have a budget despite being in post production but this could be an expected budget.\n",
    "\n",
    "- 4178 has a revenue, which cannot be the case for a post prod movie. Tagline and production companies values are absent for this observation.\n",
    "\n"
   ]
  },
  {
   "cell_type": "markdown",
   "id": "2b690cc4-43f3-455f-ab30-353c61fdb14d",
   "metadata": {},
   "source": [
    "## To do:\n",
    "\n",
    "Consider setting the table index to ID as it is a unique identifier."
   ]
  },
  {
   "cell_type": "markdown",
   "id": "b20b6a67-d95c-481c-9e38-e3dbc82f5bc3",
   "metadata": {},
   "source": [
    "## Removing JSON from columns"
   ]
  },
  {
   "cell_type": "code",
   "execution_count": 50,
   "id": "9de52e4a-8bff-41d0-83cd-b3fa57dca98c",
   "metadata": {
    "tags": []
   },
   "outputs": [],
   "source": [
    "## Modified from discord\n",
    "\n",
    "def extract_dict_list(dictionary):\n",
    "    ''' Take a list of movies' genres and make them into a list of comma-separated strings '''\n",
    "    result = []\n",
    "    for data in dictionary:\n",
    "        data_list = ast.literal_eval(data)  ## make sure it's a list!\n",
    "        values = [x['name'] for x in data_list]  ## Get a list of all names\n",
    "        result.append(\", \".join(values))  ## Join them all together as a string and add to the result list\n",
    "    return result"
   ]
  },
  {
   "cell_type": "code",
   "execution_count": 51,
   "id": "358564d8-6a16-467c-bfcc-f78087fb82d7",
   "metadata": {
    "tags": []
   },
   "outputs": [],
   "source": [
    "df['clean_genres'] = extract_dict_list(df.genres)"
   ]
  },
  {
   "cell_type": "code",
   "execution_count": 52,
   "id": "9d6f788c-f15a-44c5-a688-5ca2bc3a4788",
   "metadata": {
    "tags": []
   },
   "outputs": [],
   "source": [
    "df = df.drop('genres', axis = 1)"
   ]
  },
  {
   "cell_type": "code",
   "execution_count": 53,
   "id": "557c49c1-7136-4c4d-8479-6b4f8cf85099",
   "metadata": {
    "tags": []
   },
   "outputs": [],
   "source": [
    "df['clean_keywords'] = extract_dict_list(df.keywords)"
   ]
  },
  {
   "cell_type": "code",
   "execution_count": 54,
   "id": "91d7634f-d95c-49f4-be95-054c4ea7911e",
   "metadata": {
    "tags": []
   },
   "outputs": [],
   "source": [
    "df = df.drop('keywords', axis = 1)"
   ]
  },
  {
   "cell_type": "code",
   "execution_count": 55,
   "id": "9a7aa61c-0e18-4ca1-850a-14f5e4a1370f",
   "metadata": {
    "tags": []
   },
   "outputs": [],
   "source": [
    "df['clean_production_companies'] = extract_dict_list(df.production_companies)"
   ]
  },
  {
   "cell_type": "code",
   "execution_count": 56,
   "id": "540200d2-69c7-4a84-ac21-14bc7da3da2e",
   "metadata": {
    "tags": []
   },
   "outputs": [],
   "source": [
    "df = df.drop('production_companies', axis = 1)"
   ]
  },
  {
   "cell_type": "code",
   "execution_count": 57,
   "id": "0cdf0127-48fc-4180-be22-c834df32bc20",
   "metadata": {
    "tags": []
   },
   "outputs": [],
   "source": [
    "df['clean_production_countries'] = extract_dict_list(df.production_countries)"
   ]
  },
  {
   "cell_type": "code",
   "execution_count": 58,
   "id": "ed8d5496-41fe-4d2d-9bdf-5bc8d0be39ba",
   "metadata": {
    "tags": []
   },
   "outputs": [],
   "source": [
    "df = df.drop('production_countries', axis = 1)"
   ]
  },
  {
   "cell_type": "code",
   "execution_count": 59,
   "id": "d23ceb32-3910-4afa-8a70-c9f72b7c516d",
   "metadata": {
    "tags": []
   },
   "outputs": [],
   "source": [
    "df['clean_spoken_languages'] = extract_dict_list(df.spoken_languages)"
   ]
  },
  {
   "cell_type": "code",
   "execution_count": 60,
   "id": "53992c2a-6855-4afb-9151-df1aee248a19",
   "metadata": {
    "tags": []
   },
   "outputs": [],
   "source": [
    "df = df.drop('spoken_languages', axis = 1)"
   ]
  },
  {
   "cell_type": "code",
   "execution_count": 61,
   "id": "a1ddcbfb-b20e-4af7-b3c6-f56f550e3f0b",
   "metadata": {
    "tags": []
   },
   "outputs": [
    {
     "data": {
      "text/plain": [
       "(4799, 20)"
      ]
     },
     "execution_count": 61,
     "metadata": {},
     "output_type": "execute_result"
    }
   ],
   "source": [
    "df.shape"
   ]
  },
  {
   "cell_type": "code",
   "execution_count": 62,
   "id": "2477e5ea-9fcf-4cd6-8101-e5a7c48889a4",
   "metadata": {
    "tags": []
   },
   "outputs": [
    {
     "data": {
      "text/html": [
       "<div>\n",
       "<style scoped>\n",
       "    .dataframe tbody tr th:only-of-type {\n",
       "        vertical-align: middle;\n",
       "    }\n",
       "\n",
       "    .dataframe tbody tr th {\n",
       "        vertical-align: top;\n",
       "    }\n",
       "\n",
       "    .dataframe thead th {\n",
       "        text-align: right;\n",
       "    }\n",
       "</style>\n",
       "<table border=\"1\" class=\"dataframe\">\n",
       "  <thead>\n",
       "    <tr style=\"text-align: right;\">\n",
       "      <th></th>\n",
       "      <th>budget</th>\n",
       "      <th>homepage</th>\n",
       "      <th>id</th>\n",
       "      <th>original_language</th>\n",
       "      <th>original_title</th>\n",
       "      <th>overview</th>\n",
       "      <th>popularity</th>\n",
       "      <th>release_date</th>\n",
       "      <th>revenue</th>\n",
       "      <th>runtime</th>\n",
       "      <th>status</th>\n",
       "      <th>tagline</th>\n",
       "      <th>title</th>\n",
       "      <th>vote_average</th>\n",
       "      <th>vote_count</th>\n",
       "      <th>clean_genres</th>\n",
       "      <th>clean_keywords</th>\n",
       "      <th>clean_production_companies</th>\n",
       "      <th>clean_production_countries</th>\n",
       "      <th>clean_spoken_languages</th>\n",
       "    </tr>\n",
       "  </thead>\n",
       "  <tbody>\n",
       "    <tr>\n",
       "      <th>0</th>\n",
       "      <td>237000000.0</td>\n",
       "      <td>http://www.avatarmovie.com/</td>\n",
       "      <td>19995</td>\n",
       "      <td>en</td>\n",
       "      <td>Avatar</td>\n",
       "      <td>In the 22nd century, a paraplegic Marine is di...</td>\n",
       "      <td>150.437577</td>\n",
       "      <td>2009-12-10</td>\n",
       "      <td>2.787965e+09</td>\n",
       "      <td>162.0</td>\n",
       "      <td>Released</td>\n",
       "      <td>Enter the World of Pandora.</td>\n",
       "      <td>Avatar</td>\n",
       "      <td>7.2</td>\n",
       "      <td>11800</td>\n",
       "      <td>Action, Adventure, Fantasy, Science Fiction</td>\n",
       "      <td>culture clash, future, space war, space colony...</td>\n",
       "      <td>Ingenious Film Partners, Twentieth Century Fox...</td>\n",
       "      <td>United States of America, United Kingdom</td>\n",
       "      <td>English, Español</td>\n",
       "    </tr>\n",
       "    <tr>\n",
       "      <th>1</th>\n",
       "      <td>300000000.0</td>\n",
       "      <td>http://disney.go.com/disneypictures/pirates/</td>\n",
       "      <td>285</td>\n",
       "      <td>en</td>\n",
       "      <td>Pirates of the Caribbean: At World's End</td>\n",
       "      <td>Captain Barbossa, long believed to be dead, ha...</td>\n",
       "      <td>139.082615</td>\n",
       "      <td>2007-05-19</td>\n",
       "      <td>9.610000e+08</td>\n",
       "      <td>169.0</td>\n",
       "      <td>Released</td>\n",
       "      <td>At the end of the world, the adventure begins.</td>\n",
       "      <td>Pirates of the Caribbean: At World's End</td>\n",
       "      <td>6.9</td>\n",
       "      <td>4500</td>\n",
       "      <td>Adventure, Fantasy, Action</td>\n",
       "      <td>ocean, drug abuse, exotic island, east india t...</td>\n",
       "      <td>Walt Disney Pictures, Jerry Bruckheimer Films,...</td>\n",
       "      <td>United States of America</td>\n",
       "      <td>English</td>\n",
       "    </tr>\n",
       "    <tr>\n",
       "      <th>2</th>\n",
       "      <td>245000000.0</td>\n",
       "      <td>http://www.sonypictures.com/movies/spectre/</td>\n",
       "      <td>206647</td>\n",
       "      <td>en</td>\n",
       "      <td>Spectre</td>\n",
       "      <td>A cryptic message from Bond’s past sends him o...</td>\n",
       "      <td>107.376788</td>\n",
       "      <td>2015-10-26</td>\n",
       "      <td>8.806746e+08</td>\n",
       "      <td>148.0</td>\n",
       "      <td>Released</td>\n",
       "      <td>A Plan No One Escapes</td>\n",
       "      <td>Spectre</td>\n",
       "      <td>6.3</td>\n",
       "      <td>4466</td>\n",
       "      <td>Action, Adventure, Crime</td>\n",
       "      <td>spy, based on novel, secret agent, sequel, mi6...</td>\n",
       "      <td>Columbia Pictures, Danjaq, B24</td>\n",
       "      <td>United Kingdom, United States of America</td>\n",
       "      <td>Français, English, Español, Italiano, Deutsch</td>\n",
       "    </tr>\n",
       "    <tr>\n",
       "      <th>3</th>\n",
       "      <td>250000000.0</td>\n",
       "      <td>http://www.thedarkknightrises.com/</td>\n",
       "      <td>49026</td>\n",
       "      <td>en</td>\n",
       "      <td>The Dark Knight Rises</td>\n",
       "      <td>Following the death of District Attorney Harve...</td>\n",
       "      <td>112.312950</td>\n",
       "      <td>2012-07-16</td>\n",
       "      <td>1.084939e+09</td>\n",
       "      <td>165.0</td>\n",
       "      <td>Released</td>\n",
       "      <td>The Legend Ends</td>\n",
       "      <td>The Dark Knight Rises</td>\n",
       "      <td>7.6</td>\n",
       "      <td>9106</td>\n",
       "      <td>Action, Crime, Drama, Thriller</td>\n",
       "      <td>dc comics, crime fighter, terrorist, secret id...</td>\n",
       "      <td>Legendary Pictures, Warner Bros., DC Entertain...</td>\n",
       "      <td>United States of America</td>\n",
       "      <td>English</td>\n",
       "    </tr>\n",
       "    <tr>\n",
       "      <th>4</th>\n",
       "      <td>260000000.0</td>\n",
       "      <td>http://movies.disney.com/john-carter</td>\n",
       "      <td>49529</td>\n",
       "      <td>en</td>\n",
       "      <td>John Carter</td>\n",
       "      <td>John Carter is a war-weary, former military ca...</td>\n",
       "      <td>43.926995</td>\n",
       "      <td>2012-03-07</td>\n",
       "      <td>2.841391e+08</td>\n",
       "      <td>132.0</td>\n",
       "      <td>Released</td>\n",
       "      <td>Lost in our world, found in another.</td>\n",
       "      <td>John Carter</td>\n",
       "      <td>6.1</td>\n",
       "      <td>2124</td>\n",
       "      <td>Action, Adventure, Science Fiction</td>\n",
       "      <td>based on novel, mars, medallion, space travel,...</td>\n",
       "      <td>Walt Disney Pictures</td>\n",
       "      <td>United States of America</td>\n",
       "      <td>English</td>\n",
       "    </tr>\n",
       "    <tr>\n",
       "      <th>...</th>\n",
       "      <td>...</td>\n",
       "      <td>...</td>\n",
       "      <td>...</td>\n",
       "      <td>...</td>\n",
       "      <td>...</td>\n",
       "      <td>...</td>\n",
       "      <td>...</td>\n",
       "      <td>...</td>\n",
       "      <td>...</td>\n",
       "      <td>...</td>\n",
       "      <td>...</td>\n",
       "      <td>...</td>\n",
       "      <td>...</td>\n",
       "      <td>...</td>\n",
       "      <td>...</td>\n",
       "      <td>...</td>\n",
       "      <td>...</td>\n",
       "      <td>...</td>\n",
       "      <td>...</td>\n",
       "      <td>...</td>\n",
       "    </tr>\n",
       "    <tr>\n",
       "      <th>4798</th>\n",
       "      <td>220000.0</td>\n",
       "      <td>N/A</td>\n",
       "      <td>9367</td>\n",
       "      <td>es</td>\n",
       "      <td>El Mariachi</td>\n",
       "      <td>El Mariachi just wants to play his guitar and ...</td>\n",
       "      <td>14.269792</td>\n",
       "      <td>1992-09-04</td>\n",
       "      <td>2.040920e+06</td>\n",
       "      <td>81.0</td>\n",
       "      <td>Released</td>\n",
       "      <td>He didn't come looking for trouble, but troubl...</td>\n",
       "      <td>El Mariachi</td>\n",
       "      <td>6.6</td>\n",
       "      <td>238</td>\n",
       "      <td>Action, Crime, Thriller</td>\n",
       "      <td>united states–mexico barrier, legs, arms, pape...</td>\n",
       "      <td>Columbia Pictures</td>\n",
       "      <td>Mexico, United States of America</td>\n",
       "      <td>Español</td>\n",
       "    </tr>\n",
       "    <tr>\n",
       "      <th>4799</th>\n",
       "      <td>9000.0</td>\n",
       "      <td>N/A</td>\n",
       "      <td>72766</td>\n",
       "      <td>en</td>\n",
       "      <td>Newlyweds</td>\n",
       "      <td>A newlywed couple's honeymoon is upended by th...</td>\n",
       "      <td>0.642552</td>\n",
       "      <td>2011-12-26</td>\n",
       "      <td>NaN</td>\n",
       "      <td>85.0</td>\n",
       "      <td>Released</td>\n",
       "      <td>A newlywed couple's honeymoon is upended by th...</td>\n",
       "      <td>Newlyweds</td>\n",
       "      <td>5.9</td>\n",
       "      <td>5</td>\n",
       "      <td>Comedy, Romance</td>\n",
       "      <td></td>\n",
       "      <td></td>\n",
       "      <td></td>\n",
       "      <td></td>\n",
       "    </tr>\n",
       "    <tr>\n",
       "      <th>4800</th>\n",
       "      <td>NaN</td>\n",
       "      <td>http://www.hallmarkchannel.com/signedsealeddel...</td>\n",
       "      <td>231617</td>\n",
       "      <td>en</td>\n",
       "      <td>Signed, Sealed, Delivered</td>\n",
       "      <td>\"Signed, Sealed, Delivered\" introduces a dedic...</td>\n",
       "      <td>1.444476</td>\n",
       "      <td>2013-10-13</td>\n",
       "      <td>NaN</td>\n",
       "      <td>120.0</td>\n",
       "      <td>Released</td>\n",
       "      <td>N/A</td>\n",
       "      <td>Signed, Sealed, Delivered</td>\n",
       "      <td>7.0</td>\n",
       "      <td>6</td>\n",
       "      <td>Comedy, Drama, Romance, TV Movie</td>\n",
       "      <td>date, love at first sight, narration, investig...</td>\n",
       "      <td>Front Street Pictures, Muse Entertainment Ente...</td>\n",
       "      <td>United States of America</td>\n",
       "      <td>English</td>\n",
       "    </tr>\n",
       "    <tr>\n",
       "      <th>4801</th>\n",
       "      <td>NaN</td>\n",
       "      <td>http://shanghaicalling.com/</td>\n",
       "      <td>126186</td>\n",
       "      <td>en</td>\n",
       "      <td>Shanghai Calling</td>\n",
       "      <td>When ambitious New York attorney Sam is sent t...</td>\n",
       "      <td>0.857008</td>\n",
       "      <td>2012-05-03</td>\n",
       "      <td>NaN</td>\n",
       "      <td>98.0</td>\n",
       "      <td>Released</td>\n",
       "      <td>A New Yorker in Shanghai</td>\n",
       "      <td>Shanghai Calling</td>\n",
       "      <td>5.7</td>\n",
       "      <td>7</td>\n",
       "      <td></td>\n",
       "      <td></td>\n",
       "      <td></td>\n",
       "      <td>United States of America, China</td>\n",
       "      <td>English</td>\n",
       "    </tr>\n",
       "    <tr>\n",
       "      <th>4802</th>\n",
       "      <td>NaN</td>\n",
       "      <td>N/A</td>\n",
       "      <td>25975</td>\n",
       "      <td>en</td>\n",
       "      <td>My Date with Drew</td>\n",
       "      <td>Ever since the second grade when he first saw ...</td>\n",
       "      <td>1.929883</td>\n",
       "      <td>2005-08-05</td>\n",
       "      <td>NaN</td>\n",
       "      <td>90.0</td>\n",
       "      <td>Released</td>\n",
       "      <td>N/A</td>\n",
       "      <td>My Date with Drew</td>\n",
       "      <td>6.3</td>\n",
       "      <td>16</td>\n",
       "      <td>Documentary</td>\n",
       "      <td>obsession, camcorder, crush, dream girl</td>\n",
       "      <td>rusty bear entertainment, lucky crow films</td>\n",
       "      <td>United States of America</td>\n",
       "      <td>English</td>\n",
       "    </tr>\n",
       "  </tbody>\n",
       "</table>\n",
       "<p>4799 rows × 20 columns</p>\n",
       "</div>"
      ],
      "text/plain": [
       "           budget                                           homepage      id  \\\n",
       "0     237000000.0                        http://www.avatarmovie.com/   19995   \n",
       "1     300000000.0       http://disney.go.com/disneypictures/pirates/     285   \n",
       "2     245000000.0        http://www.sonypictures.com/movies/spectre/  206647   \n",
       "3     250000000.0                 http://www.thedarkknightrises.com/   49026   \n",
       "4     260000000.0               http://movies.disney.com/john-carter   49529   \n",
       "...           ...                                                ...     ...   \n",
       "4798     220000.0                                                N/A    9367   \n",
       "4799       9000.0                                                N/A   72766   \n",
       "4800          NaN  http://www.hallmarkchannel.com/signedsealeddel...  231617   \n",
       "4801          NaN                        http://shanghaicalling.com/  126186   \n",
       "4802          NaN                                                N/A   25975   \n",
       "\n",
       "     original_language                            original_title  \\\n",
       "0                   en                                    Avatar   \n",
       "1                   en  Pirates of the Caribbean: At World's End   \n",
       "2                   en                                   Spectre   \n",
       "3                   en                     The Dark Knight Rises   \n",
       "4                   en                               John Carter   \n",
       "...                ...                                       ...   \n",
       "4798                es                               El Mariachi   \n",
       "4799                en                                 Newlyweds   \n",
       "4800                en                 Signed, Sealed, Delivered   \n",
       "4801                en                          Shanghai Calling   \n",
       "4802                en                         My Date with Drew   \n",
       "\n",
       "                                               overview  popularity  \\\n",
       "0     In the 22nd century, a paraplegic Marine is di...  150.437577   \n",
       "1     Captain Barbossa, long believed to be dead, ha...  139.082615   \n",
       "2     A cryptic message from Bond’s past sends him o...  107.376788   \n",
       "3     Following the death of District Attorney Harve...  112.312950   \n",
       "4     John Carter is a war-weary, former military ca...   43.926995   \n",
       "...                                                 ...         ...   \n",
       "4798  El Mariachi just wants to play his guitar and ...   14.269792   \n",
       "4799  A newlywed couple's honeymoon is upended by th...    0.642552   \n",
       "4800  \"Signed, Sealed, Delivered\" introduces a dedic...    1.444476   \n",
       "4801  When ambitious New York attorney Sam is sent t...    0.857008   \n",
       "4802  Ever since the second grade when he first saw ...    1.929883   \n",
       "\n",
       "     release_date       revenue  runtime    status  \\\n",
       "0      2009-12-10  2.787965e+09    162.0  Released   \n",
       "1      2007-05-19  9.610000e+08    169.0  Released   \n",
       "2      2015-10-26  8.806746e+08    148.0  Released   \n",
       "3      2012-07-16  1.084939e+09    165.0  Released   \n",
       "4      2012-03-07  2.841391e+08    132.0  Released   \n",
       "...           ...           ...      ...       ...   \n",
       "4798   1992-09-04  2.040920e+06     81.0  Released   \n",
       "4799   2011-12-26           NaN     85.0  Released   \n",
       "4800   2013-10-13           NaN    120.0  Released   \n",
       "4801   2012-05-03           NaN     98.0  Released   \n",
       "4802   2005-08-05           NaN     90.0  Released   \n",
       "\n",
       "                                                tagline  \\\n",
       "0                           Enter the World of Pandora.   \n",
       "1        At the end of the world, the adventure begins.   \n",
       "2                                 A Plan No One Escapes   \n",
       "3                                       The Legend Ends   \n",
       "4                  Lost in our world, found in another.   \n",
       "...                                                 ...   \n",
       "4798  He didn't come looking for trouble, but troubl...   \n",
       "4799  A newlywed couple's honeymoon is upended by th...   \n",
       "4800                                                N/A   \n",
       "4801                           A New Yorker in Shanghai   \n",
       "4802                                                N/A   \n",
       "\n",
       "                                         title  vote_average  vote_count  \\\n",
       "0                                       Avatar           7.2       11800   \n",
       "1     Pirates of the Caribbean: At World's End           6.9        4500   \n",
       "2                                      Spectre           6.3        4466   \n",
       "3                        The Dark Knight Rises           7.6        9106   \n",
       "4                                  John Carter           6.1        2124   \n",
       "...                                        ...           ...         ...   \n",
       "4798                               El Mariachi           6.6         238   \n",
       "4799                                 Newlyweds           5.9           5   \n",
       "4800                 Signed, Sealed, Delivered           7.0           6   \n",
       "4801                          Shanghai Calling           5.7           7   \n",
       "4802                         My Date with Drew           6.3          16   \n",
       "\n",
       "                                     clean_genres  \\\n",
       "0     Action, Adventure, Fantasy, Science Fiction   \n",
       "1                      Adventure, Fantasy, Action   \n",
       "2                        Action, Adventure, Crime   \n",
       "3                  Action, Crime, Drama, Thriller   \n",
       "4              Action, Adventure, Science Fiction   \n",
       "...                                           ...   \n",
       "4798                      Action, Crime, Thriller   \n",
       "4799                              Comedy, Romance   \n",
       "4800             Comedy, Drama, Romance, TV Movie   \n",
       "4801                                                \n",
       "4802                                  Documentary   \n",
       "\n",
       "                                         clean_keywords  \\\n",
       "0     culture clash, future, space war, space colony...   \n",
       "1     ocean, drug abuse, exotic island, east india t...   \n",
       "2     spy, based on novel, secret agent, sequel, mi6...   \n",
       "3     dc comics, crime fighter, terrorist, secret id...   \n",
       "4     based on novel, mars, medallion, space travel,...   \n",
       "...                                                 ...   \n",
       "4798  united states–mexico barrier, legs, arms, pape...   \n",
       "4799                                                      \n",
       "4800  date, love at first sight, narration, investig...   \n",
       "4801                                                      \n",
       "4802            obsession, camcorder, crush, dream girl   \n",
       "\n",
       "                             clean_production_companies  \\\n",
       "0     Ingenious Film Partners, Twentieth Century Fox...   \n",
       "1     Walt Disney Pictures, Jerry Bruckheimer Films,...   \n",
       "2                        Columbia Pictures, Danjaq, B24   \n",
       "3     Legendary Pictures, Warner Bros., DC Entertain...   \n",
       "4                                  Walt Disney Pictures   \n",
       "...                                                 ...   \n",
       "4798                                  Columbia Pictures   \n",
       "4799                                                      \n",
       "4800  Front Street Pictures, Muse Entertainment Ente...   \n",
       "4801                                                      \n",
       "4802         rusty bear entertainment, lucky crow films   \n",
       "\n",
       "                    clean_production_countries  \\\n",
       "0     United States of America, United Kingdom   \n",
       "1                     United States of America   \n",
       "2     United Kingdom, United States of America   \n",
       "3                     United States of America   \n",
       "4                     United States of America   \n",
       "...                                        ...   \n",
       "4798          Mexico, United States of America   \n",
       "4799                                             \n",
       "4800                  United States of America   \n",
       "4801           United States of America, China   \n",
       "4802                  United States of America   \n",
       "\n",
       "                             clean_spoken_languages  \n",
       "0                                  English, Español  \n",
       "1                                           English  \n",
       "2     Français, English, Español, Italiano, Deutsch  \n",
       "3                                           English  \n",
       "4                                           English  \n",
       "...                                             ...  \n",
       "4798                                        Español  \n",
       "4799                                                 \n",
       "4800                                        English  \n",
       "4801                                        English  \n",
       "4802                                        English  \n",
       "\n",
       "[4799 rows x 20 columns]"
      ]
     },
     "execution_count": 62,
     "metadata": {},
     "output_type": "execute_result"
    }
   ],
   "source": [
    "df"
   ]
  },
  {
   "cell_type": "code",
   "execution_count": 63,
   "id": "0bbca7ae-f92b-47ab-932a-02d5858567ca",
   "metadata": {
    "tags": []
   },
   "outputs": [],
   "source": [
    "## Investigating films with the keystring 'based on novel'.\n",
    "based_on_novel = df[df['clean_keywords'].str.contains('based on novel', case=False, na=False)]"
   ]
  },
  {
   "cell_type": "code",
   "execution_count": 64,
   "id": "6c2cbd25-9c8a-43a1-a9fe-aab9a19cf93c",
   "metadata": {
    "tags": []
   },
   "outputs": [
    {
     "data": {
      "text/html": [
       "<div>\n",
       "<style scoped>\n",
       "    .dataframe tbody tr th:only-of-type {\n",
       "        vertical-align: middle;\n",
       "    }\n",
       "\n",
       "    .dataframe tbody tr th {\n",
       "        vertical-align: top;\n",
       "    }\n",
       "\n",
       "    .dataframe thead th {\n",
       "        text-align: right;\n",
       "    }\n",
       "</style>\n",
       "<table border=\"1\" class=\"dataframe\">\n",
       "  <thead>\n",
       "    <tr style=\"text-align: right;\">\n",
       "      <th></th>\n",
       "      <th>budget</th>\n",
       "      <th>homepage</th>\n",
       "      <th>id</th>\n",
       "      <th>original_language</th>\n",
       "      <th>original_title</th>\n",
       "      <th>overview</th>\n",
       "      <th>popularity</th>\n",
       "      <th>release_date</th>\n",
       "      <th>revenue</th>\n",
       "      <th>runtime</th>\n",
       "      <th>status</th>\n",
       "      <th>tagline</th>\n",
       "      <th>title</th>\n",
       "      <th>vote_average</th>\n",
       "      <th>vote_count</th>\n",
       "      <th>clean_genres</th>\n",
       "      <th>clean_keywords</th>\n",
       "      <th>clean_production_companies</th>\n",
       "      <th>clean_production_countries</th>\n",
       "      <th>clean_spoken_languages</th>\n",
       "    </tr>\n",
       "  </thead>\n",
       "  <tbody>\n",
       "    <tr>\n",
       "      <th>2</th>\n",
       "      <td>245000000.0</td>\n",
       "      <td>http://www.sonypictures.com/movies/spectre/</td>\n",
       "      <td>206647</td>\n",
       "      <td>en</td>\n",
       "      <td>Spectre</td>\n",
       "      <td>A cryptic message from Bond’s past sends him o...</td>\n",
       "      <td>107.376788</td>\n",
       "      <td>2015-10-26</td>\n",
       "      <td>8.806746e+08</td>\n",
       "      <td>148.0</td>\n",
       "      <td>Released</td>\n",
       "      <td>A Plan No One Escapes</td>\n",
       "      <td>Spectre</td>\n",
       "      <td>6.3</td>\n",
       "      <td>4466</td>\n",
       "      <td>Action, Adventure, Crime</td>\n",
       "      <td>spy, based on novel, secret agent, sequel, mi6...</td>\n",
       "      <td>Columbia Pictures, Danjaq, B24</td>\n",
       "      <td>United Kingdom, United States of America</td>\n",
       "      <td>Français, English, Español, Italiano, Deutsch</td>\n",
       "    </tr>\n",
       "    <tr>\n",
       "      <th>4</th>\n",
       "      <td>260000000.0</td>\n",
       "      <td>http://movies.disney.com/john-carter</td>\n",
       "      <td>49529</td>\n",
       "      <td>en</td>\n",
       "      <td>John Carter</td>\n",
       "      <td>John Carter is a war-weary, former military ca...</td>\n",
       "      <td>43.926995</td>\n",
       "      <td>2012-03-07</td>\n",
       "      <td>2.841391e+08</td>\n",
       "      <td>132.0</td>\n",
       "      <td>Released</td>\n",
       "      <td>Lost in our world, found in another.</td>\n",
       "      <td>John Carter</td>\n",
       "      <td>6.1</td>\n",
       "      <td>2124</td>\n",
       "      <td>Action, Adventure, Science Fiction</td>\n",
       "      <td>based on novel, mars, medallion, space travel,...</td>\n",
       "      <td>Walt Disney Pictures</td>\n",
       "      <td>United States of America</td>\n",
       "      <td>English</td>\n",
       "    </tr>\n",
       "    <tr>\n",
       "      <th>15</th>\n",
       "      <td>225000000.0</td>\n",
       "      <td>N/A</td>\n",
       "      <td>2454</td>\n",
       "      <td>en</td>\n",
       "      <td>The Chronicles of Narnia: Prince Caspian</td>\n",
       "      <td>One year after their incredible adventures in ...</td>\n",
       "      <td>53.978602</td>\n",
       "      <td>2008-05-15</td>\n",
       "      <td>4.196514e+08</td>\n",
       "      <td>150.0</td>\n",
       "      <td>Released</td>\n",
       "      <td>Hope has a new face.</td>\n",
       "      <td>The Chronicles of Narnia: Prince Caspian</td>\n",
       "      <td>6.3</td>\n",
       "      <td>1630</td>\n",
       "      <td>Adventure, Family, Fantasy</td>\n",
       "      <td>based on novel, fictional place, brother siste...</td>\n",
       "      <td>Walt Disney, Walden Media, Stillking Films, Oz...</td>\n",
       "      <td>Czech Republic, Poland, Slovenia, United State...</td>\n",
       "      <td>English</td>\n",
       "    </tr>\n",
       "    <tr>\n",
       "      <th>32</th>\n",
       "      <td>200000000.0</td>\n",
       "      <td>http://disney.go.com/wonderland/</td>\n",
       "      <td>12155</td>\n",
       "      <td>en</td>\n",
       "      <td>Alice in Wonderland</td>\n",
       "      <td>Alice, an unpretentious and individual 19-year...</td>\n",
       "      <td>78.530105</td>\n",
       "      <td>2010-03-03</td>\n",
       "      <td>1.025491e+09</td>\n",
       "      <td>108.0</td>\n",
       "      <td>Released</td>\n",
       "      <td>You're invited to a very important date.</td>\n",
       "      <td>Alice in Wonderland</td>\n",
       "      <td>6.4</td>\n",
       "      <td>4645</td>\n",
       "      <td>Family, Fantasy, Adventure</td>\n",
       "      <td>based on novel, fictional place, queen, fantas...</td>\n",
       "      <td>Walt Disney Pictures, Team Todd, Tim Burton Pr...</td>\n",
       "      <td>United States of America</td>\n",
       "      <td>English</td>\n",
       "    </tr>\n",
       "    <tr>\n",
       "      <th>49</th>\n",
       "      <td>105000000.0</td>\n",
       "      <td>N/A</td>\n",
       "      <td>64682</td>\n",
       "      <td>en</td>\n",
       "      <td>The Great Gatsby</td>\n",
       "      <td>An adaptation of F. Scott Fitzgerald's Long Is...</td>\n",
       "      <td>61.196071</td>\n",
       "      <td>2013-05-10</td>\n",
       "      <td>3.510404e+08</td>\n",
       "      <td>143.0</td>\n",
       "      <td>Released</td>\n",
       "      <td>Reserving judgments is a matter of infinite ho...</td>\n",
       "      <td>The Great Gatsby</td>\n",
       "      <td>7.3</td>\n",
       "      <td>3769</td>\n",
       "      <td>Drama, Romance</td>\n",
       "      <td>based on novel, infidelity, obsession, hope, 3d</td>\n",
       "      <td>Village Roadshow Pictures, Bazmark Films, Warn...</td>\n",
       "      <td>United States of America, Australia</td>\n",
       "      <td>English</td>\n",
       "    </tr>\n",
       "    <tr>\n",
       "      <th>...</th>\n",
       "      <td>...</td>\n",
       "      <td>...</td>\n",
       "      <td>...</td>\n",
       "      <td>...</td>\n",
       "      <td>...</td>\n",
       "      <td>...</td>\n",
       "      <td>...</td>\n",
       "      <td>...</td>\n",
       "      <td>...</td>\n",
       "      <td>...</td>\n",
       "      <td>...</td>\n",
       "      <td>...</td>\n",
       "      <td>...</td>\n",
       "      <td>...</td>\n",
       "      <td>...</td>\n",
       "      <td>...</td>\n",
       "      <td>...</td>\n",
       "      <td>...</td>\n",
       "      <td>...</td>\n",
       "      <td>...</td>\n",
       "    </tr>\n",
       "    <tr>\n",
       "      <th>3986</th>\n",
       "      <td>2777000.0</td>\n",
       "      <td>http://thewizardofoz.warnerbros.com/</td>\n",
       "      <td>630</td>\n",
       "      <td>en</td>\n",
       "      <td>The Wizard of Oz</td>\n",
       "      <td>Young Dorothy finds herself in a magical world...</td>\n",
       "      <td>67.417542</td>\n",
       "      <td>1939-08-15</td>\n",
       "      <td>3.375497e+07</td>\n",
       "      <td>102.0</td>\n",
       "      <td>Released</td>\n",
       "      <td>We're off to see the Wizard, the wonderful Wiz...</td>\n",
       "      <td>The Wizard of Oz</td>\n",
       "      <td>7.4</td>\n",
       "      <td>1642</td>\n",
       "      <td>Adventure, Family, Fantasy</td>\n",
       "      <td>witch, adolescence, based on novel, secret ide...</td>\n",
       "      <td>Loew's Incorporated</td>\n",
       "      <td>United States of America</td>\n",
       "      <td>English</td>\n",
       "    </tr>\n",
       "    <tr>\n",
       "      <th>4076</th>\n",
       "      <td>2000000.0</td>\n",
       "      <td>N/A</td>\n",
       "      <td>595</td>\n",
       "      <td>en</td>\n",
       "      <td>To Kill a Mockingbird</td>\n",
       "      <td>In a small Alabama town in the 1930s, scrupulo...</td>\n",
       "      <td>22.139842</td>\n",
       "      <td>1962-12-25</td>\n",
       "      <td>1.312985e+07</td>\n",
       "      <td>129.0</td>\n",
       "      <td>Released</td>\n",
       "      <td>N/A</td>\n",
       "      <td>To Kill a Mockingbird</td>\n",
       "      <td>8.0</td>\n",
       "      <td>657</td>\n",
       "      <td>Crime, Drama</td>\n",
       "      <td>black people, based on novel, brother sister r...</td>\n",
       "      <td>Universal Pictures</td>\n",
       "      <td>United States of America</td>\n",
       "      <td>English</td>\n",
       "    </tr>\n",
       "    <tr>\n",
       "      <th>4083</th>\n",
       "      <td>2000000.0</td>\n",
       "      <td>N/A</td>\n",
       "      <td>990</td>\n",
       "      <td>en</td>\n",
       "      <td>The Hustler</td>\n",
       "      <td>Fast Eddie Felson is a small-time pool hustler...</td>\n",
       "      <td>17.639478</td>\n",
       "      <td>1961-09-25</td>\n",
       "      <td>7.600000e+06</td>\n",
       "      <td>134.0</td>\n",
       "      <td>Released</td>\n",
       "      <td>They called him Fast Eddie. He was a winner. H...</td>\n",
       "      <td>The Hustler</td>\n",
       "      <td>7.6</td>\n",
       "      <td>240</td>\n",
       "      <td>Drama</td>\n",
       "      <td>suicide, gambling, manager, alcohol, based on ...</td>\n",
       "      <td>Twentieth Century Fox Film Corporation, Rossen...</td>\n",
       "      <td>United States of America</td>\n",
       "      <td>English</td>\n",
       "    </tr>\n",
       "    <tr>\n",
       "      <th>4281</th>\n",
       "      <td>1288000.0</td>\n",
       "      <td>N/A</td>\n",
       "      <td>223</td>\n",
       "      <td>en</td>\n",
       "      <td>Rebecca</td>\n",
       "      <td>A self-conscious bride is tormented by the mem...</td>\n",
       "      <td>18.426825</td>\n",
       "      <td>1940-04-12</td>\n",
       "      <td>6.000000e+06</td>\n",
       "      <td>130.0</td>\n",
       "      <td>Released</td>\n",
       "      <td>The shadow of this woman darkened their love.</td>\n",
       "      <td>Rebecca</td>\n",
       "      <td>7.7</td>\n",
       "      <td>336</td>\n",
       "      <td>Drama, Mystery</td>\n",
       "      <td>monte carlo, based on novel, age difference, s...</td>\n",
       "      <td>Selznick International Pictures</td>\n",
       "      <td>United States of America</td>\n",
       "      <td>English, Français</td>\n",
       "    </tr>\n",
       "    <tr>\n",
       "      <th>4792</th>\n",
       "      <td>20000.0</td>\n",
       "      <td>N/A</td>\n",
       "      <td>36095</td>\n",
       "      <td>ja</td>\n",
       "      <td>キュア</td>\n",
       "      <td>A wave of gruesome murders is sweeping Tokyo. ...</td>\n",
       "      <td>0.212443</td>\n",
       "      <td>1997-11-06</td>\n",
       "      <td>9.900000e+04</td>\n",
       "      <td>111.0</td>\n",
       "      <td>Released</td>\n",
       "      <td>Madness. Terror. Murder.</td>\n",
       "      <td>Cure</td>\n",
       "      <td>7.4</td>\n",
       "      <td>63</td>\n",
       "      <td>Crime, Horror, Mystery, Thriller</td>\n",
       "      <td>japan, prostitute, hotel, based on novel, hall...</td>\n",
       "      <td>Daiei Studios</td>\n",
       "      <td>Japan</td>\n",
       "      <td>日本語</td>\n",
       "    </tr>\n",
       "  </tbody>\n",
       "</table>\n",
       "<p>197 rows × 20 columns</p>\n",
       "</div>"
      ],
      "text/plain": [
       "           budget                                     homepage      id  \\\n",
       "2     245000000.0  http://www.sonypictures.com/movies/spectre/  206647   \n",
       "4     260000000.0         http://movies.disney.com/john-carter   49529   \n",
       "15    225000000.0                                          N/A    2454   \n",
       "32    200000000.0             http://disney.go.com/wonderland/   12155   \n",
       "49    105000000.0                                          N/A   64682   \n",
       "...           ...                                          ...     ...   \n",
       "3986    2777000.0         http://thewizardofoz.warnerbros.com/     630   \n",
       "4076    2000000.0                                          N/A     595   \n",
       "4083    2000000.0                                          N/A     990   \n",
       "4281    1288000.0                                          N/A     223   \n",
       "4792      20000.0                                          N/A   36095   \n",
       "\n",
       "     original_language                            original_title  \\\n",
       "2                   en                                   Spectre   \n",
       "4                   en                               John Carter   \n",
       "15                  en  The Chronicles of Narnia: Prince Caspian   \n",
       "32                  en                       Alice in Wonderland   \n",
       "49                  en                          The Great Gatsby   \n",
       "...                ...                                       ...   \n",
       "3986                en                          The Wizard of Oz   \n",
       "4076                en                     To Kill a Mockingbird   \n",
       "4083                en                               The Hustler   \n",
       "4281                en                                   Rebecca   \n",
       "4792                ja                                       キュア   \n",
       "\n",
       "                                               overview  popularity  \\\n",
       "2     A cryptic message from Bond’s past sends him o...  107.376788   \n",
       "4     John Carter is a war-weary, former military ca...   43.926995   \n",
       "15    One year after their incredible adventures in ...   53.978602   \n",
       "32    Alice, an unpretentious and individual 19-year...   78.530105   \n",
       "49    An adaptation of F. Scott Fitzgerald's Long Is...   61.196071   \n",
       "...                                                 ...         ...   \n",
       "3986  Young Dorothy finds herself in a magical world...   67.417542   \n",
       "4076  In a small Alabama town in the 1930s, scrupulo...   22.139842   \n",
       "4083  Fast Eddie Felson is a small-time pool hustler...   17.639478   \n",
       "4281  A self-conscious bride is tormented by the mem...   18.426825   \n",
       "4792  A wave of gruesome murders is sweeping Tokyo. ...    0.212443   \n",
       "\n",
       "     release_date       revenue  runtime    status  \\\n",
       "2      2015-10-26  8.806746e+08    148.0  Released   \n",
       "4      2012-03-07  2.841391e+08    132.0  Released   \n",
       "15     2008-05-15  4.196514e+08    150.0  Released   \n",
       "32     2010-03-03  1.025491e+09    108.0  Released   \n",
       "49     2013-05-10  3.510404e+08    143.0  Released   \n",
       "...           ...           ...      ...       ...   \n",
       "3986   1939-08-15  3.375497e+07    102.0  Released   \n",
       "4076   1962-12-25  1.312985e+07    129.0  Released   \n",
       "4083   1961-09-25  7.600000e+06    134.0  Released   \n",
       "4281   1940-04-12  6.000000e+06    130.0  Released   \n",
       "4792   1997-11-06  9.900000e+04    111.0  Released   \n",
       "\n",
       "                                                tagline  \\\n",
       "2                                 A Plan No One Escapes   \n",
       "4                  Lost in our world, found in another.   \n",
       "15                                 Hope has a new face.   \n",
       "32             You're invited to a very important date.   \n",
       "49    Reserving judgments is a matter of infinite ho...   \n",
       "...                                                 ...   \n",
       "3986  We're off to see the Wizard, the wonderful Wiz...   \n",
       "4076                                                N/A   \n",
       "4083  They called him Fast Eddie. He was a winner. H...   \n",
       "4281      The shadow of this woman darkened their love.   \n",
       "4792                           Madness. Terror. Murder.   \n",
       "\n",
       "                                         title  vote_average  vote_count  \\\n",
       "2                                      Spectre           6.3        4466   \n",
       "4                                  John Carter           6.1        2124   \n",
       "15    The Chronicles of Narnia: Prince Caspian           6.3        1630   \n",
       "32                         Alice in Wonderland           6.4        4645   \n",
       "49                            The Great Gatsby           7.3        3769   \n",
       "...                                        ...           ...         ...   \n",
       "3986                          The Wizard of Oz           7.4        1642   \n",
       "4076                     To Kill a Mockingbird           8.0         657   \n",
       "4083                               The Hustler           7.6         240   \n",
       "4281                                   Rebecca           7.7         336   \n",
       "4792                                      Cure           7.4          63   \n",
       "\n",
       "                            clean_genres  \\\n",
       "2               Action, Adventure, Crime   \n",
       "4     Action, Adventure, Science Fiction   \n",
       "15            Adventure, Family, Fantasy   \n",
       "32            Family, Fantasy, Adventure   \n",
       "49                        Drama, Romance   \n",
       "...                                  ...   \n",
       "3986          Adventure, Family, Fantasy   \n",
       "4076                        Crime, Drama   \n",
       "4083                               Drama   \n",
       "4281                      Drama, Mystery   \n",
       "4792    Crime, Horror, Mystery, Thriller   \n",
       "\n",
       "                                         clean_keywords  \\\n",
       "2     spy, based on novel, secret agent, sequel, mi6...   \n",
       "4     based on novel, mars, medallion, space travel,...   \n",
       "15    based on novel, fictional place, brother siste...   \n",
       "32    based on novel, fictional place, queen, fantas...   \n",
       "49      based on novel, infidelity, obsession, hope, 3d   \n",
       "...                                                 ...   \n",
       "3986  witch, adolescence, based on novel, secret ide...   \n",
       "4076  black people, based on novel, brother sister r...   \n",
       "4083  suicide, gambling, manager, alcohol, based on ...   \n",
       "4281  monte carlo, based on novel, age difference, s...   \n",
       "4792  japan, prostitute, hotel, based on novel, hall...   \n",
       "\n",
       "                             clean_production_companies  \\\n",
       "2                        Columbia Pictures, Danjaq, B24   \n",
       "4                                  Walt Disney Pictures   \n",
       "15    Walt Disney, Walden Media, Stillking Films, Oz...   \n",
       "32    Walt Disney Pictures, Team Todd, Tim Burton Pr...   \n",
       "49    Village Roadshow Pictures, Bazmark Films, Warn...   \n",
       "...                                                 ...   \n",
       "3986                                Loew's Incorporated   \n",
       "4076                                 Universal Pictures   \n",
       "4083  Twentieth Century Fox Film Corporation, Rossen...   \n",
       "4281                    Selznick International Pictures   \n",
       "4792                                      Daiei Studios   \n",
       "\n",
       "                             clean_production_countries  \\\n",
       "2              United Kingdom, United States of America   \n",
       "4                              United States of America   \n",
       "15    Czech Republic, Poland, Slovenia, United State...   \n",
       "32                             United States of America   \n",
       "49                  United States of America, Australia   \n",
       "...                                                 ...   \n",
       "3986                           United States of America   \n",
       "4076                           United States of America   \n",
       "4083                           United States of America   \n",
       "4281                           United States of America   \n",
       "4792                                              Japan   \n",
       "\n",
       "                             clean_spoken_languages  \n",
       "2     Français, English, Español, Italiano, Deutsch  \n",
       "4                                           English  \n",
       "15                                          English  \n",
       "32                                          English  \n",
       "49                                          English  \n",
       "...                                             ...  \n",
       "3986                                        English  \n",
       "4076                                        English  \n",
       "4083                                        English  \n",
       "4281                              English, Français  \n",
       "4792                                            日本語  \n",
       "\n",
       "[197 rows x 20 columns]"
      ]
     },
     "execution_count": 64,
     "metadata": {},
     "output_type": "execute_result"
    }
   ],
   "source": [
    "based_on_novel"
   ]
  },
  {
   "cell_type": "code",
   "execution_count": null,
   "id": "71c8bf59-d358-4762-a91b-47cf56a8cdf1",
   "metadata": {},
   "outputs": [],
   "source": []
  }
 ],
 "metadata": {
  "kernelspec": {
   "display_name": "Python 3 (ipykernel)",
   "language": "python",
   "name": "python3"
  },
  "language_info": {
   "codemirror_mode": {
    "name": "ipython",
    "version": 3
   },
   "file_extension": ".py",
   "mimetype": "text/x-python",
   "name": "python",
   "nbconvert_exporter": "python",
   "pygments_lexer": "ipython3",
   "version": "3.11.5"
  }
 },
 "nbformat": 4,
 "nbformat_minor": 5
}
